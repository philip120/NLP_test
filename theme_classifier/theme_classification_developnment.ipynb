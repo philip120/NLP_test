{
 "cells": [
  {
   "cell_type": "code",
   "execution_count": 1,
   "metadata": {},
   "outputs": [
    {
     "name": "stdout",
     "output_type": "stream",
     "text": [
      "Requirement already satisfied: transformers==4.44.0 in c:\\users\\phili\\anaconda3\\envs\\gradiowin\\lib\\site-packages (4.44.0)\n",
      "Requirement already satisfied: filelock in c:\\users\\phili\\anaconda3\\envs\\gradiowin\\lib\\site-packages (from transformers==4.44.0) (3.15.4)\n",
      "Requirement already satisfied: huggingface-hub<1.0,>=0.23.2 in c:\\users\\phili\\anaconda3\\envs\\gradiowin\\lib\\site-packages (from transformers==4.44.0) (0.24.5)\n",
      "Requirement already satisfied: numpy>=1.17 in c:\\users\\phili\\anaconda3\\envs\\gradiowin\\lib\\site-packages (from transformers==4.44.0) (1.26.4)\n",
      "Requirement already satisfied: packaging>=20.0 in c:\\users\\phili\\anaconda3\\envs\\gradiowin\\lib\\site-packages (from transformers==4.44.0) (24.1)\n",
      "Requirement already satisfied: pyyaml>=5.1 in c:\\users\\phili\\anaconda3\\envs\\gradiowin\\lib\\site-packages (from transformers==4.44.0) (6.0.2)\n",
      "Requirement already satisfied: regex!=2019.12.17 in c:\\users\\phili\\anaconda3\\envs\\gradiowin\\lib\\site-packages (from transformers==4.44.0) (2024.7.24)\n",
      "Requirement already satisfied: requests in c:\\users\\phili\\anaconda3\\envs\\gradiowin\\lib\\site-packages (from transformers==4.44.0) (2.32.3)\n",
      "Requirement already satisfied: safetensors>=0.4.1 in c:\\users\\phili\\anaconda3\\envs\\gradiowin\\lib\\site-packages (from transformers==4.44.0) (0.4.4)\n",
      "Requirement already satisfied: tokenizers<0.20,>=0.19 in c:\\users\\phili\\anaconda3\\envs\\gradiowin\\lib\\site-packages (from transformers==4.44.0) (0.19.1)\n",
      "Requirement already satisfied: tqdm>=4.27 in c:\\users\\phili\\anaconda3\\envs\\gradiowin\\lib\\site-packages (from transformers==4.44.0) (4.66.5)\n",
      "Requirement already satisfied: fsspec>=2023.5.0 in c:\\users\\phili\\anaconda3\\envs\\gradiowin\\lib\\site-packages (from huggingface-hub<1.0,>=0.23.2->transformers==4.44.0) (2024.6.1)\n",
      "Requirement already satisfied: typing-extensions>=3.7.4.3 in c:\\users\\phili\\anaconda3\\envs\\gradiowin\\lib\\site-packages (from huggingface-hub<1.0,>=0.23.2->transformers==4.44.0) (4.12.2)\n",
      "Requirement already satisfied: colorama in c:\\users\\phili\\anaconda3\\envs\\gradiowin\\lib\\site-packages (from tqdm>=4.27->transformers==4.44.0) (0.4.6)\n",
      "Requirement already satisfied: charset-normalizer<4,>=2 in c:\\users\\phili\\anaconda3\\envs\\gradiowin\\lib\\site-packages (from requests->transformers==4.44.0) (3.3.2)\n",
      "Requirement already satisfied: idna<4,>=2.5 in c:\\users\\phili\\anaconda3\\envs\\gradiowin\\lib\\site-packages (from requests->transformers==4.44.0) (3.8)\n",
      "Requirement already satisfied: urllib3<3,>=1.21.1 in c:\\users\\phili\\anaconda3\\envs\\gradiowin\\lib\\site-packages (from requests->transformers==4.44.0) (2.2.2)\n",
      "Requirement already satisfied: certifi>=2017.4.17 in c:\\users\\phili\\anaconda3\\envs\\gradiowin\\lib\\site-packages (from requests->transformers==4.44.0) (2024.7.4)\n",
      "Note: you may need to restart the kernel to use updated packages.\n"
     ]
    }
   ],
   "source": [
    "%pip install transformers==4.44.0"
   ]
  },
  {
   "cell_type": "code",
   "execution_count": 2,
   "metadata": {},
   "outputs": [
    {
     "name": "stdout",
     "output_type": "stream",
     "text": [
      "Requirement already satisfied: huggingface_hub==0.24.5 in c:\\users\\phili\\anaconda3\\envs\\gradiowin\\lib\\site-packages (0.24.5)\n",
      "Requirement already satisfied: filelock in c:\\users\\phili\\anaconda3\\envs\\gradiowin\\lib\\site-packages (from huggingface_hub==0.24.5) (3.15.4)\n",
      "Requirement already satisfied: fsspec>=2023.5.0 in c:\\users\\phili\\anaconda3\\envs\\gradiowin\\lib\\site-packages (from huggingface_hub==0.24.5) (2024.6.1)\n",
      "Requirement already satisfied: packaging>=20.9 in c:\\users\\phili\\anaconda3\\envs\\gradiowin\\lib\\site-packages (from huggingface_hub==0.24.5) (24.1)\n",
      "Requirement already satisfied: pyyaml>=5.1 in c:\\users\\phili\\anaconda3\\envs\\gradiowin\\lib\\site-packages (from huggingface_hub==0.24.5) (6.0.2)\n",
      "Requirement already satisfied: requests in c:\\users\\phili\\anaconda3\\envs\\gradiowin\\lib\\site-packages (from huggingface_hub==0.24.5) (2.32.3)\n",
      "Requirement already satisfied: tqdm>=4.42.1 in c:\\users\\phili\\anaconda3\\envs\\gradiowin\\lib\\site-packages (from huggingface_hub==0.24.5) (4.66.5)\n",
      "Requirement already satisfied: typing-extensions>=3.7.4.3 in c:\\users\\phili\\anaconda3\\envs\\gradiowin\\lib\\site-packages (from huggingface_hub==0.24.5) (4.12.2)\n",
      "Requirement already satisfied: colorama in c:\\users\\phili\\anaconda3\\envs\\gradiowin\\lib\\site-packages (from tqdm>=4.42.1->huggingface_hub==0.24.5) (0.4.6)\n",
      "Requirement already satisfied: charset-normalizer<4,>=2 in c:\\users\\phili\\anaconda3\\envs\\gradiowin\\lib\\site-packages (from requests->huggingface_hub==0.24.5) (3.3.2)\n",
      "Requirement already satisfied: idna<4,>=2.5 in c:\\users\\phili\\anaconda3\\envs\\gradiowin\\lib\\site-packages (from requests->huggingface_hub==0.24.5) (3.8)\n",
      "Requirement already satisfied: urllib3<3,>=1.21.1 in c:\\users\\phili\\anaconda3\\envs\\gradiowin\\lib\\site-packages (from requests->huggingface_hub==0.24.5) (2.2.2)\n",
      "Requirement already satisfied: certifi>=2017.4.17 in c:\\users\\phili\\anaconda3\\envs\\gradiowin\\lib\\site-packages (from requests->huggingface_hub==0.24.5) (2024.7.4)\n",
      "Note: you may need to restart the kernel to use updated packages.\n",
      "Requirement already satisfied: nltk==3.8.1 in c:\\users\\phili\\anaconda3\\envs\\gradiowin\\lib\\site-packages (3.8.1)\n",
      "Requirement already satisfied: click in c:\\users\\phili\\anaconda3\\envs\\gradiowin\\lib\\site-packages (from nltk==3.8.1) (8.1.7)\n",
      "Requirement already satisfied: joblib in c:\\users\\phili\\anaconda3\\envs\\gradiowin\\lib\\site-packages (from nltk==3.8.1) (1.4.2)\n",
      "Requirement already satisfied: regex>=2021.8.3 in c:\\users\\phili\\anaconda3\\envs\\gradiowin\\lib\\site-packages (from nltk==3.8.1) (2024.7.24)\n",
      "Requirement already satisfied: tqdm in c:\\users\\phili\\anaconda3\\envs\\gradiowin\\lib\\site-packages (from nltk==3.8.1) (4.66.5)\n",
      "Requirement already satisfied: colorama in c:\\users\\phili\\anaconda3\\envs\\gradiowin\\lib\\site-packages (from click->nltk==3.8.1) (0.4.6)\n",
      "Note: you may need to restart the kernel to use updated packages.\n"
     ]
    }
   ],
   "source": [
    "%pip install huggingface_hub==0.24.5\n",
    "%pip install nltk==3.8.1\n"
   ]
  },
  {
   "cell_type": "code",
   "execution_count": 3,
   "metadata": {},
   "outputs": [
    {
     "name": "stderr",
     "output_type": "stream",
     "text": [
      "c:\\Users\\phili\\anaconda3\\envs\\gradiowin\\Lib\\site-packages\\tqdm\\auto.py:21: TqdmWarning: IProgress not found. Please update jupyter and ipywidgets. See https://ipywidgets.readthedocs.io/en/stable/user_install.html\n",
      "  from .autonotebook import tqdm as notebook_tqdm\n"
     ]
    },
    {
     "name": "stdout",
     "output_type": "stream",
     "text": [
      "Requirement already satisfied: torch in c:\\users\\phili\\anaconda3\\envs\\gradiowin\\lib\\site-packages (2.4.0)\n",
      "Requirement already satisfied: filelock in c:\\users\\phili\\anaconda3\\envs\\gradiowin\\lib\\site-packages (from torch) (3.15.4)\n",
      "Requirement already satisfied: typing-extensions>=4.8.0 in c:\\users\\phili\\anaconda3\\envs\\gradiowin\\lib\\site-packages (from torch) (4.12.2)\n",
      "Requirement already satisfied: sympy in c:\\users\\phili\\anaconda3\\envs\\gradiowin\\lib\\site-packages (from torch) (1.13.2)\n",
      "Requirement already satisfied: networkx in c:\\users\\phili\\anaconda3\\envs\\gradiowin\\lib\\site-packages (from torch) (3.3)\n",
      "Requirement already satisfied: jinja2 in c:\\users\\phili\\anaconda3\\envs\\gradiowin\\lib\\site-packages (from torch) (3.1.4)\n",
      "Requirement already satisfied: fsspec in c:\\users\\phili\\anaconda3\\envs\\gradiowin\\lib\\site-packages (from torch) (2024.6.1)\n",
      "Requirement already satisfied: setuptools in c:\\users\\phili\\anaconda3\\envs\\gradiowin\\lib\\site-packages (from torch) (72.2.0)\n",
      "Requirement already satisfied: MarkupSafe>=2.0 in c:\\users\\phili\\anaconda3\\envs\\gradiowin\\lib\\site-packages (from jinja2->torch) (2.1.5)\n",
      "Requirement already satisfied: mpmath<1.4,>=1.1.0 in c:\\users\\phili\\anaconda3\\envs\\gradiowin\\lib\\site-packages (from sympy->torch) (1.3.0)\n",
      "Note: you may need to restart the kernel to use updated packages.\n"
     ]
    }
   ],
   "source": [
    "from transformers import pipeline\n",
    "\n",
    "from nltk import sent_tokenize\n",
    "import nltk\n",
    "%pip install torch\n",
    "import torch"
   ]
  },
  {
   "cell_type": "code",
   "execution_count": 4,
   "metadata": {},
   "outputs": [
    {
     "name": "stdout",
     "output_type": "stream",
     "text": [
      "Note: you may need to restart the kernel to use updated packages.\n"
     ]
    },
    {
     "name": "stderr",
     "output_type": "stream",
     "text": [
      "The system cannot find the file specified.\n"
     ]
    }
   ],
   "source": [
    "#%pip install -U jupyter ipywidgets\n",
    "%pip install numpy<2\n"
   ]
  },
  {
   "cell_type": "code",
   "execution_count": 5,
   "metadata": {},
   "outputs": [
    {
     "name": "stderr",
     "output_type": "stream",
     "text": [
      "[nltk_data] Downloading package punkt to\n",
      "[nltk_data]     C:\\Users\\phili\\AppData\\Roaming\\nltk_data...\n",
      "[nltk_data]   Package punkt is already up-to-date!\n"
     ]
    },
    {
     "data": {
      "text/plain": [
       "True"
      ]
     },
     "execution_count": 5,
     "metadata": {},
     "output_type": "execute_result"
    }
   ],
   "source": [
    "\n",
    "nltk.download('punkt')"
   ]
  },
  {
   "cell_type": "code",
   "execution_count": 6,
   "metadata": {},
   "outputs": [],
   "source": [
    "model_name= 'facebook/bart-large-mnli'\n",
    "device = 0 if torch.cuda.is_available() else 'cpu'"
   ]
  },
  {
   "cell_type": "code",
   "execution_count": 7,
   "metadata": {},
   "outputs": [],
   "source": [
    "def load_model(device):\n",
    "    theme_classifier = pipeline(\"zero-shot-classification\",\n",
    "                      model_name= 'facebook/bart-large-mnli',\n",
    "                      device=device)\n",
    "    return theme_classifier"
   ]
  },
  {
   "cell_type": "code",
   "execution_count": 8,
   "metadata": {},
   "outputs": [
    {
     "name": "stderr",
     "output_type": "stream",
     "text": [
      "No model was supplied, defaulted to facebook/bart-large-mnli and revision c626438 (https://huggingface.co/facebook/bart-large-mnli).\n",
      "Using a pipeline without specifying a model name and revision in production is not recommended.\n",
      "c:\\Users\\phili\\anaconda3\\envs\\gradiowin\\Lib\\site-packages\\transformers\\tokenization_utils_base.py:1601: FutureWarning: `clean_up_tokenization_spaces` was not set. It will be set to `True` by default. This behavior will be depracted in transformers v4.45, and will be then set to `False` by default. For more details check this issue: https://github.com/huggingface/transformers/issues/31884\n",
      "  warnings.warn(\n"
     ]
    }
   ],
   "source": [
    "theme_classifier = load_model(device)"
   ]
  },
  {
   "cell_type": "code",
   "execution_count": 9,
   "metadata": {},
   "outputs": [],
   "source": [
    "candidate_labels = ['friendship','hope', 'sacrifice', 'battle','self development','betrayal','love','dialogue'] \n"
   ]
  },
  {
   "cell_type": "code",
   "execution_count": 10,
   "metadata": {},
   "outputs": [
    {
     "name": "stdout",
     "output_type": "stream",
     "text": [
      "1.26.4\n"
     ]
    }
   ],
   "source": [
    "#%pip uninstall numpy\n",
    "#%pip install \"numpy<2\"\n",
    "\n",
    "import numpy as np\n",
    "print(np.__version__)"
   ]
  },
  {
   "cell_type": "code",
   "execution_count": 11,
   "metadata": {},
   "outputs": [
    {
     "data": {
      "text/plain": [
       "{'sequence': 'I gave him a right hook then a left jab',\n",
       " 'labels': ['battle',\n",
       "  'self development',\n",
       "  'hope',\n",
       "  'sacrifice',\n",
       "  'dialogue',\n",
       "  'betrayal',\n",
       "  'love',\n",
       "  'friendship'],\n",
       " 'scores': [0.9121252298355103,\n",
       "  0.4749993681907654,\n",
       "  0.08781809359788895,\n",
       "  0.04499969258904457,\n",
       "  0.020132586359977722,\n",
       "  0.012040374800562859,\n",
       "  0.0042922962456941605,\n",
       "  0.0028171767480671406]}"
      ]
     },
     "execution_count": 11,
     "metadata": {},
     "output_type": "execute_result"
    }
   ],
   "source": [
    "theme_classifier(\n",
    "    \"I gave him a right hook then a left jab\",\n",
    "    candidate_labels,\n",
    "    multi_label=True\n",
    ")"
   ]
  },
  {
   "cell_type": "markdown",
   "metadata": {},
   "source": [
    "#load dataset"
   ]
  },
  {
   "cell_type": "code",
   "execution_count": 12,
   "metadata": {},
   "outputs": [],
   "source": [
    "from glob import glob"
   ]
  },
  {
   "cell_type": "code",
   "execution_count": 13,
   "metadata": {},
   "outputs": [],
   "source": [
    "files = glob('../data/subtitles/*.ass')"
   ]
  },
  {
   "cell_type": "code",
   "execution_count": 14,
   "metadata": {},
   "outputs": [
    {
     "data": {
      "text/plain": [
       "['../data/subtitles\\\\Naruto Season 6 - 137.ass',\n",
       " '../data/subtitles\\\\Naruto Season 6 - 138.ass',\n",
       " '../data/subtitles\\\\Naruto Season 8 - 203.ass',\n",
       " '../data/subtitles\\\\Naruto Season 6 - 156.ass',\n",
       " '../data/subtitles\\\\Naruto Season 9 - 211.ass']"
      ]
     },
     "execution_count": 14,
     "metadata": {},
     "output_type": "execute_result"
    }
   ],
   "source": [
    "files[:5]"
   ]
  },
  {
   "cell_type": "code",
   "execution_count": 15,
   "metadata": {},
   "outputs": [],
   "source": [
    "with open(files[0], 'r') as file:\n",
    "    lines = file.readlines()\n",
    "    lines = lines[27:]\n",
    "    lines = [ \",\".join(line.split(',')[9:]) for line in lines ]"
   ]
  },
  {
   "cell_type": "code",
   "execution_count": 16,
   "metadata": {},
   "outputs": [
    {
     "data": {
      "text/plain": [
       "['Hey boys, listen up!\\n', 'Humans aren’t such a big deal\\n']"
      ]
     },
     "execution_count": 16,
     "metadata": {},
     "output_type": "execute_result"
    }
   ],
   "source": [
    "lines[:2]"
   ]
  },
  {
   "cell_type": "code",
   "execution_count": 17,
   "metadata": {},
   "outputs": [],
   "source": [
    "lines = [ line.replace('\\\\N',' ') for line in lines]"
   ]
  },
  {
   "cell_type": "code",
   "execution_count": 18,
   "metadata": {},
   "outputs": [
    {
     "data": {
      "text/plain": [
       "['Hey boys, listen up!\\n',\n",
       " 'Humans aren’t such a big deal\\n',\n",
       " 'Who needs tomorrow anyway,\\n',\n",
       " 'so don’t hide your fists\\n']"
      ]
     },
     "execution_count": 18,
     "metadata": {},
     "output_type": "execute_result"
    }
   ],
   "source": [
    "lines[:4]"
   ]
  },
  {
   "cell_type": "code",
   "execution_count": 19,
   "metadata": {},
   "outputs": [
    {
     "data": {
      "text/plain": [
       "'Hey boys, listen up!\\n Humans aren’t such a big deal\\n Who needs tomorrow anyway,\\n so don’t hide your fists\\n You’re not old enough\\n to sell your dreams away to uncertainty\\n Hey boys, you’re the only ones\\n who can pull the trigger in your heart\\n All the kids said\\n We’re living in this senseless, ridiculous,\\n'"
      ]
     },
     "execution_count": 19,
     "metadata": {},
     "output_type": "execute_result"
    }
   ],
   "source": [
    "\" \".join(lines[:10])"
   ]
  },
  {
   "cell_type": "code",
   "execution_count": 20,
   "metadata": {},
   "outputs": [
    {
     "data": {
      "text/plain": [
       "137"
      ]
     },
     "execution_count": 20,
     "metadata": {},
     "output_type": "execute_result"
    }
   ],
   "source": [
    "int(files[0].split('-')[-1].split('.')[0].strip())"
   ]
  },
  {
   "cell_type": "code",
   "execution_count": 21,
   "metadata": {},
   "outputs": [
    {
     "name": "stdout",
     "output_type": "stream",
     "text": [
      "Requirement already satisfied: pandas in c:\\users\\phili\\anaconda3\\envs\\gradiowin\\lib\\site-packages (2.2.2)\n",
      "Requirement already satisfied: numpy>=1.26.0 in c:\\users\\phili\\anaconda3\\envs\\gradiowin\\lib\\site-packages (from pandas) (1.26.4)\n",
      "Requirement already satisfied: python-dateutil>=2.8.2 in c:\\users\\phili\\anaconda3\\envs\\gradiowin\\lib\\site-packages (from pandas) (2.9.0)\n",
      "Requirement already satisfied: pytz>=2020.1 in c:\\users\\phili\\anaconda3\\envs\\gradiowin\\lib\\site-packages (from pandas) (2024.1)\n",
      "Requirement already satisfied: tzdata>=2022.7 in c:\\users\\phili\\anaconda3\\envs\\gradiowin\\lib\\site-packages (from pandas) (2024.1)\n",
      "Requirement already satisfied: six>=1.5 in c:\\users\\phili\\anaconda3\\envs\\gradiowin\\lib\\site-packages (from python-dateutil>=2.8.2->pandas) (1.16.0)\n",
      "Note: you may need to restart the kernel to use updated packages.\n"
     ]
    }
   ],
   "source": [
    "%pip install pandas\n",
    "import pandas as pd"
   ]
  },
  {
   "cell_type": "code",
   "execution_count": 22,
   "metadata": {},
   "outputs": [],
   "source": [
    "def load_subtitles_dataset(dataset_path):\n",
    "    subtitles_paths = glob(dataset_path+'/*.ass')\n",
    "    \n",
    "    scripts=[]\n",
    "    episode_num=[]\n",
    "    \n",
    "    for path in subtitles_paths:\n",
    "        with open(path, 'r') as file:\n",
    "            #read lines\n",
    "            lines = file.readlines()\n",
    "            lines = lines[27:]\n",
    "            lines = [ \",\".join(line.split(',')[9:]) for line in lines ]\n",
    "            \n",
    "        lines = [ line.replace('\\\\N',' ') for line in lines]\n",
    "        script = \" \".join(lines)\n",
    "        \n",
    "        episode = int(path.split('-')[-1].split('.')[0].strip())\n",
    "        \n",
    "        scripts.append(script)\n",
    "        episode_num.append(episode)\n",
    "    df = pd.DataFrame.from_dict({\"episode\":episode_num, \"script\":scripts})\n",
    "    return df"
   ]
  },
  {
   "cell_type": "code",
   "execution_count": 23,
   "metadata": {},
   "outputs": [],
   "source": [
    "dataset_path = \"../data/subtitles\"\n",
    "df = load_subtitles_dataset(dataset_path)"
   ]
  },
  {
   "cell_type": "code",
   "execution_count": 24,
   "metadata": {},
   "outputs": [
    {
     "data": {
      "text/html": [
       "<div>\n",
       "<style scoped>\n",
       "    .dataframe tbody tr th:only-of-type {\n",
       "        vertical-align: middle;\n",
       "    }\n",
       "\n",
       "    .dataframe tbody tr th {\n",
       "        vertical-align: top;\n",
       "    }\n",
       "\n",
       "    .dataframe thead th {\n",
       "        text-align: right;\n",
       "    }\n",
       "</style>\n",
       "<table border=\"1\" class=\"dataframe\">\n",
       "  <thead>\n",
       "    <tr style=\"text-align: right;\">\n",
       "      <th></th>\n",
       "      <th>episode</th>\n",
       "      <th>script</th>\n",
       "    </tr>\n",
       "  </thead>\n",
       "  <tbody>\n",
       "    <tr>\n",
       "      <th>0</th>\n",
       "      <td>137</td>\n",
       "      <td>Hey boys, listen up!\\n Humans aren’t such a bi...</td>\n",
       "    </tr>\n",
       "    <tr>\n",
       "      <th>1</th>\n",
       "      <td>138</td>\n",
       "      <td>Hey boys, listen up!\\n Humans aren’t such a bi...</td>\n",
       "    </tr>\n",
       "    <tr>\n",
       "      <th>2</th>\n",
       "      <td>203</td>\n",
       "      <td>Fly into the wavy and twisted sky, into your h...</td>\n",
       "    </tr>\n",
       "    <tr>\n",
       "      <th>3</th>\n",
       "      <td>156</td>\n",
       "      <td>I want to try and gather the unrestrained wind...</td>\n",
       "    </tr>\n",
       "    <tr>\n",
       "      <th>4</th>\n",
       "      <td>211</td>\n",
       "      <td>Fly into the wavy and twisted sky, into your h...</td>\n",
       "    </tr>\n",
       "  </tbody>\n",
       "</table>\n",
       "</div>"
      ],
      "text/plain": [
       "   episode                                             script\n",
       "0      137  Hey boys, listen up!\\n Humans aren’t such a bi...\n",
       "1      138  Hey boys, listen up!\\n Humans aren’t such a bi...\n",
       "2      203  Fly into the wavy and twisted sky, into your h...\n",
       "3      156  I want to try and gather the unrestrained wind...\n",
       "4      211  Fly into the wavy and twisted sky, into your h..."
      ]
     },
     "execution_count": 24,
     "metadata": {},
     "output_type": "execute_result"
    }
   ],
   "source": [
    "df.head()"
   ]
  },
  {
   "cell_type": "code",
   "execution_count": 25,
   "metadata": {},
   "outputs": [],
   "source": [
    "#RUN MODEL"
   ]
  },
  {
   "cell_type": "code",
   "execution_count": 26,
   "metadata": {},
   "outputs": [],
   "source": [
    "script = df.iloc[0]['script']"
   ]
  },
  {
   "cell_type": "code",
   "execution_count": 27,
   "metadata": {},
   "outputs": [
    {
     "data": {
      "text/plain": [
       "\"Hey boys, listen up!\\n Humans aren’t such a big deal\\n Who needs tomorrow anyway,\\n so don’t hide your fists\\n You’re not old enough\\n to sell your dreams away to uncertainty\\n Hey boys, you’re the only ones\\n who can pull the trigger in your heart\\n All the kids said\\n We’re living in this senseless, ridiculous,\\n awesome world right at this moment,\\n All the kids said\\n Don’t forget every truth or lie\\n All the kids said\\n We’re way too young to die\\n In this empty town lined with empty faces\\n All the kids took off\\n into this windless night\\n Because they want to change something\\n A Town of Outlaws!                           The Shadow of the Fuma Clan\\n It seems that the most bustling traveler’s town in the Land of Rice Paddies\\n is at the bottom of these mountains.\\n You’re going to weird places again\\n in the name of investigation, aren’t you, Pervy Sage?!\\n Please stop it already!\\n We had a rough time shaking off the bodyguards from the rip-off bar.\\n I understand your point,\\n but there’s no other way to find Village Hidden in the Sound.\\n Gee, I don’t like it either, but…\\n This is truly a problem…\\n But we have to do things we don’t like… Right?!\\n Okay, let’s go!\\n Naruto, Sakura, don’t drag your feet!\\n Investigation, investigation! What a pain.\\n He looks like he’s having fun.\\n He hasn’t learned at all.\\n Fuma Alley\\n – Oww! \\t\\t\\t\\t\\t– That's my line!\\n This is even rougher than the traveler’s town before.\\n Let’s just take a pass on this place and find Village Hidden in the Sound.\\n Say…\\n I don’t have any more money.\\n I don’t have any more money either!\\n Here!\\n You guys go get some food with that\\n and wait in the temple on the outskirts of town.\\n Information accumulates in this kind of place,\\n but it’s not good for you guys to see.\\n I’ll sacrifice myself and check it out.\\n He’s a surprisingly nice person…\\n Sakura… You’re still so naïve.\\n Where should I investigate first?\\n Gee, how rough… lnvestigations are painful.\\n Let’s leave the Pervy Sage be and check somewhere else.\\n What’s the matter, Sakura?\\n I don’t think… Sasuke’s in this land anymore.\\n What’s the matter?!\\n We won’t know that if we don’t investigate!\\n Yeah, but…\\n Our opponent is Orochimaru.\\n Of course, things might not go easily.\\n But you know…\\n But I’m sure we’ll find him!\\n Right.\\n Naruto!\\n You’re…the one from before?!\\n This kid’s…hurt…\\n You…?\\n Naruto!\\n Substitution, huh…?\\n We let them get away.\\n Don’t worry…\\n My cute children are making a silver trail for us.\\n They can’t escape from us now…\\n It seems those two are petty Ninja from somewhere.\\n But getting involved with us has sealed their fate.\\n It’s unfortunate for them…\\n The objective of those who sneak into this land is Lord Orochimaru, anyway.\\n Sure enough, the skin of a young woman is supple.\\n You’re mean!\\n Eh? Oh, sorry sorry.\\n By the way, have you guys heard rumors about the Sound Village?\\n The Sound Village?\\n I’ve never heard the name of such a village.\\n I’ll tip you handsomely if you tell me.\\n But I really don’t know.\\n I’ve never heard of it.\\n I’ve heard of it!\\n One of my regulars knows a lot about it.\\n Wanna come?\\n Yeah.\\n His home is in the back of this alley.\\n Trapped like a rat.\\n What, it’s a seedy old man! Hey! He’s got money, right?\\n Yeah. I saw it with my own eyes.\\n You punks! Stop the idle chatter and take care of him now!\\n Right, boss!\\n Getting infatuated with girls has sealed your fate! Rest in peace!\\n Ninja Art: \\t\\t\\t\\t\\tNeedle Jizo.\\n You punk…\\n I’m in a hurry…\\n I think it’d be best if you answer compliantly\\n whether or not you know about Hidden Sound Village.\\n You’re a fool if I look like a compliant person to you!\\n You a Ninja?\\n If so?\\n Interesting!\\n We’ve reduced ourselves to being thieves,\\n but we’re a somewhat famous Shinobi clan around here!\\n Instead of taking your life, I could hire you if you want!\\n A Ninja, huh…\\n Then I don’t need to go easy on you.\\n Don’t be acting like a big shot, old man!\\n Shut up, you squirt!\\n A Ninja refers to one who endures.\\n Those who couldn’t endure their hunger pangs\\n and resort to use their diligently studied Jutsu for stealing\\n are not called Ninja!\\n I won’t let that pass!\\n Thinking we’re fellow Shinobi, we took pity on you.\\n Acting all conceited!\\n Regret after being sliced in two!\\n Fuma Ninja Blade Zanbato!\\n Rasengan!\\n You punk! How dare you do that to the boss!\\n We won’t let you do any more than that!\\n Oh?\\n Hold it, you guys!\\n I didn’t know you were so good!\\n That Jutsu just now…\\n I sense you must be a person of stature!\\n If it’s all right, may I ask you your name?\\n If you don’t know, then I shall tell you!\\n Women become infatuated with his sex appeal.\\n He’s strong against Shinobi, but has a soft spot for women!\\n He exists in Village Hidden in the Leaves…\\n And made his name known…\\n Master Jiraiya, that’s me!\\n What?!\\n You guys bow your heads and beg for your lives!\\n We’ll all be killed!\\n – Yes, sir! \\t\\t\\t\\t\\t– Yes, sir!\\n Although we didn’t know, being so rude to Master Jiraiya,\\n reputed as one of the Legendary Sannin of the Leaf Village!\\n We beg for your forgiveness!\\n So my name’s known in this land, too…\\n Well, it’s okay.\\n So is it true that you know about Village Hidden in the Sound?\\n Yes! There were many Ninja clans in the Land of Rice Paddies,\\n including us Fuma.\\n We divided up the roles amongst ourselves\\n and the Ninja of this land were doing well in their own way.\\n Until that man appeared…\\n Who was that man?\\n It’s regrettable to even speak of that name…\\n It was Orochimaru!\\n It’s okay! Rest easy!\\n If germs get into the wound and you get tetanus,\\n you won’t be saved.\\n But fortunately, I have medicine, so let me treat you.\\n They’re not coming.\\n Just show us your wound.\\n Well, huh?\\n Naruto, go wait outside till my treatment is done. 164.01\\t01:37:53:04\\t01:37:53:24\\tHuh?\\n Why do I have to be the only one chased out?!\\n Jeez!\\n I guess it can’t be helped.\\n Don’t peek!\\n I know.\\n Okay, show me your wound.\\n How mean…\\n To hit me out of the blue…?\\n Whoa, interesting.\\n Naruto! You can come in!\\n What?!\\n A cute girl?\\n Sakura! This girl! Who the heck is this girl?!\\n How dense. It’s the Ninja from a moment ago.\\n Come to think of it…\\n Why…?\\n I am Sasame Fuma.\\n Sasame… Why were you being chased by those guys?\\n If you like, try talking about it.\\n We might be able to help.\\n They were the Sound Ninja protecting Orochimaru’s residence.\\n What?!\\n I’m sorry for mistaking you guys as one of them the other day.\\n That doesn’t matter!\\n We’re also looking for Orochimaru!\\n Would you please give us the details?\\n Okay…\\n It all started with the Feudal Lord of the Land of Rice Paddies\\n launching an attack on a neighboring land\\n in an attempt to expand the territory.\\n The Land of Rice Paddies is a small land…\\n And there aren’t that many Shinobi.\\n It was a foolhardy attack. Losing was expected…\\n And the Shinobi clans of this land\\n who participated in the losing battle went to ruin…\\n We the Fuma Clan as well.\\n I hear that among the surviving Shinobi,\\n there are those who have left the land\\n and those who have stooped to become thieves.\\n Even so, we’ve lived believing in a restoration of the clan\\n and continued to live hiding in the shadows.\\n At that time, an emissary of Village Hidden in the Sound appeared before us\\n attempting to create the first full-scale Shinobi village in the Land of Rice Paddies.\\n The emissary of the Sound Village said…\\n My master Orochimaru is gathering all sorts of Jutsu!\\n He has taken an interest in your Jutsu well.\\n Depending on your work,\\n you might be given the chance to serve the Feudal Lord!\\n My cousin Arashi…\\n was an up-and-coming star for the restoration of the clan…\\n Arashi as a representative of the clan\\n headed for Village Hidden in the Sound together with the emissary.\\n But…\\n And then…?\\n We waited for a notice from Arashi, but…\\n There is no word from him, huh?\\n Damn it! He was tricked by that Orochimaru!\\n Naruto!\\n Oh…!\\n Uh, even so, your cousin Arashi might be safe…\\n We don’t know, right? And so…and so…\\n Idiot…!\\n I’m going to save Arashi!\\n I have a small body and my power is weak.\\n So no matter what I did…\\n I did nothing but become a hindrance even in Ninjutsu training…\\n But Arashi always saved me!\\n Everyone in the village has already given up, but…\\n So I’ll find Village Hidden in the Sound alone…\\n And so you were chased by the Sound Ninja, right?\\n This time, it’s my turn to save Arashi!\\n Sasame!\\n I…I want to be of help to Arashi!\\n Naruto!\\n Yeah…I know!\\n We have to go to Village of the Sound to bring back Sasuke anyway, so!\\n Now instead of one,\\n it’s just that there are two guys for us to bring back.\\n I’ll save your cousin, Sasame!\\n Right!\\n Eew! A spider…\\n What’s this?!\\n Naruto!\\n Wha--! What’s this?!\\n Ninja Art: Wind Spiders!\\n My cute children made a path for me out of silver thread\\n and told me where you guys were going.\\n All three of you together will descend into hell while bearing the secret!\\n Naruto! It’s the Ventriloquism Jutsu!\\n He’s scattering his voice to multiple directions\\n and covering up location and number!\\n I get it! I leave this girl to you, Sakura!\\n Multi-Shadow Clone Jutsu!\\n Okay! Bring it on from anywhere!\\n It’s a large number, but it’s just Clone Jutsu.\\n No. Look closely, Jigumo!\\n The threads are getting tangled.\\n All of the clones are tangible?! Shadow clones?!\\n If so… Kagero!\\n Understood…\\n Come out!\\n Borne to be born, lived to live, one sunrise and one sunset…\\n The life of a mayfly lasts but one day.\\n Thinking that such a fleeting life is pitiable is, in fact, pitiable…\\n Know that I’m at my best\\n when living in the dark and deep in the ground!\\n Ninja Art:\\n Ant Lion Jutsu!\\n When I recalled the parts one by one,\\n I felt as though I had understood everything\\n Faded words which I kept so close to me\\n Speechless nights, a hint of warmth,\\n and this distant yearning for you\\n I live, simply repeating this cycle\\n Held in my two hands A droplet of time\\n Softly clutching forgotten memories Lost words\\n I’ll keep these thoughts…\\n Darn it! What a pesky bunch!\\n But I won’t be done in so easily!\\n I have to kick that Orochimaru jerk’s butt\\n and bring back Sasuke and Sasame’s cousin!\\n It doesn’t matter if you guys are powerhouses!\\n I’ll kick all of your butts, so bring it on from anywhere!\\n Next episode, “Pure Betrayal, and a Fleeting Plea!”\\n\""
      ]
     },
     "execution_count": 27,
     "metadata": {},
     "output_type": "execute_result"
    }
   ],
   "source": [
    "script"
   ]
  },
  {
   "cell_type": "code",
   "execution_count": 28,
   "metadata": {},
   "outputs": [
    {
     "data": {
      "text/plain": [
       "['Hey boys, listen up!',\n",
       " 'Humans aren’t such a big deal\\n Who needs tomorrow anyway,\\n so don’t hide your fists\\n You’re not old enough\\n to sell your dreams away to uncertainty\\n Hey boys, you’re the only ones\\n who can pull the trigger in your heart\\n All the kids said\\n We’re living in this senseless, ridiculous,\\n awesome world right at this moment,\\n All the kids said\\n Don’t forget every truth or lie\\n All the kids said\\n We’re way too young to die\\n In this empty town lined with empty faces\\n All the kids took off\\n into this windless night\\n Because they want to change something\\n A Town of Outlaws!',\n",
       " 'The Shadow of the Fuma Clan\\n It seems that the most bustling traveler’s town in the Land of Rice Paddies\\n is at the bottom of these mountains.']"
      ]
     },
     "execution_count": 28,
     "metadata": {},
     "output_type": "execute_result"
    }
   ],
   "source": [
    "script_sentences = sent_tokenize(script)\n",
    "script_sentences[:3]"
   ]
  },
  {
   "cell_type": "code",
   "execution_count": 29,
   "metadata": {},
   "outputs": [],
   "source": [
    "#batch sentences\n",
    "script_batches = []\n",
    "sentence_batch_size=20\n",
    "for index in range(0,len(script_sentences),sentence_batch_size):\n",
    "        sent = \" \".join(script_sentences[index:index+sentence_batch_size])\n",
    "        script_batches.append(sent)"
   ]
  },
  {
   "cell_type": "code",
   "execution_count": 30,
   "metadata": {},
   "outputs": [
    {
     "data": {
      "text/plain": [
       "[\"Hey boys, listen up! Humans aren’t such a big deal\\n Who needs tomorrow anyway,\\n so don’t hide your fists\\n You’re not old enough\\n to sell your dreams away to uncertainty\\n Hey boys, you’re the only ones\\n who can pull the trigger in your heart\\n All the kids said\\n We’re living in this senseless, ridiculous,\\n awesome world right at this moment,\\n All the kids said\\n Don’t forget every truth or lie\\n All the kids said\\n We’re way too young to die\\n In this empty town lined with empty faces\\n All the kids took off\\n into this windless night\\n Because they want to change something\\n A Town of Outlaws! The Shadow of the Fuma Clan\\n It seems that the most bustling traveler’s town in the Land of Rice Paddies\\n is at the bottom of these mountains. You’re going to weird places again\\n in the name of investigation, aren’t you, Pervy Sage?! Please stop it already! We had a rough time shaking off the bodyguards from the rip-off bar. I understand your point,\\n but there’s no other way to find Village Hidden in the Sound. Gee, I don’t like it either, but…\\n This is truly a problem…\\n But we have to do things we don’t like… Right?! Okay, let’s go! Naruto, Sakura, don’t drag your feet! Investigation, investigation! What a pain. He looks like he’s having fun. He hasn’t learned at all. Fuma Alley\\n – Oww! – That's my line! This is even rougher than the traveler’s town before. Let’s just take a pass on this place and find Village Hidden in the Sound. Say…\\n I don’t have any more money. I don’t have any more money either!\",\n",
       " 'Here! You guys go get some food with that\\n and wait in the temple on the outskirts of town. Information accumulates in this kind of place,\\n but it’s not good for you guys to see. I’ll sacrifice myself and check it out. He’s a surprisingly nice person…\\n Sakura… You’re still so naïve. Where should I investigate first? Gee, how rough… lnvestigations are painful. Let’s leave the Pervy Sage be and check somewhere else. What’s the matter, Sakura? I don’t think… Sasuke’s in this land anymore. What’s the matter?! We won’t know that if we don’t investigate! Yeah, but…\\n Our opponent is Orochimaru. Of course, things might not go easily. But you know…\\n But I’m sure we’ll find him! Right. Naruto! You’re…the one from before?! This kid’s…hurt…\\n You…? Naruto!',\n",
       " 'Substitution, huh…? We let them get away. Don’t worry…\\n My cute children are making a silver trail for us. They can’t escape from us now…\\n It seems those two are petty Ninja from somewhere. But getting involved with us has sealed their fate. It’s unfortunate for them…\\n The objective of those who sneak into this land is Lord Orochimaru, anyway. Sure enough, the skin of a young woman is supple. You’re mean! Eh? Oh, sorry sorry. By the way, have you guys heard rumors about the Sound Village? The Sound Village? I’ve never heard the name of such a village. I’ll tip you handsomely if you tell me. But I really don’t know. I’ve never heard of it. I’ve heard of it! One of my regulars knows a lot about it. Wanna come? Yeah.',\n",
       " 'His home is in the back of this alley. Trapped like a rat. What, it’s a seedy old man! Hey! He’s got money, right? Yeah. I saw it with my own eyes. You punks! Stop the idle chatter and take care of him now! Right, boss! Getting infatuated with girls has sealed your fate! Rest in peace! Ninja Art: \\t\\t\\t\\t\\tNeedle Jizo. You punk…\\n I’m in a hurry…\\n I think it’d be best if you answer compliantly\\n whether or not you know about Hidden Sound Village. You’re a fool if I look like a compliant person to you! You a Ninja? If so? Interesting! We’ve reduced ourselves to being thieves,\\n but we’re a somewhat famous Shinobi clan around here! Instead of taking your life, I could hire you if you want!',\n",
       " 'A Ninja, huh…\\n Then I don’t need to go easy on you. Don’t be acting like a big shot, old man! Shut up, you squirt! A Ninja refers to one who endures. Those who couldn’t endure their hunger pangs\\n and resort to use their diligently studied Jutsu for stealing\\n are not called Ninja! I won’t let that pass! Thinking we’re fellow Shinobi, we took pity on you. Acting all conceited! Regret after being sliced in two! Fuma Ninja Blade Zanbato! Rasengan! You punk! How dare you do that to the boss! We won’t let you do any more than that! Oh? Hold it, you guys! I didn’t know you were so good! That Jutsu just now…\\n I sense you must be a person of stature! If it’s all right, may I ask you your name? If you don’t know, then I shall tell you!',\n",
       " 'Women become infatuated with his sex appeal. He’s strong against Shinobi, but has a soft spot for women! He exists in Village Hidden in the Leaves…\\n And made his name known…\\n Master Jiraiya, that’s me! What?! You guys bow your heads and beg for your lives! We’ll all be killed! – Yes, sir! – Yes, sir! Although we didn’t know, being so rude to Master Jiraiya,\\n reputed as one of the Legendary Sannin of the Leaf Village! We beg for your forgiveness! So my name’s known in this land, too…\\n Well, it’s okay. So is it true that you know about Village Hidden in the Sound? Yes! There were many Ninja clans in the Land of Rice Paddies,\\n including us Fuma. We divided up the roles amongst ourselves\\n and the Ninja of this land were doing well in their own way. Until that man appeared…\\n Who was that man? It’s regrettable to even speak of that name…\\n It was Orochimaru! It’s okay! Rest easy! If germs get into the wound and you get tetanus,\\n you won’t be saved.',\n",
       " 'But fortunately, I have medicine, so let me treat you. They’re not coming. Just show us your wound. Well, huh? Naruto, go wait outside till my treatment is done. 164.01\\t01:37:53:04\\t01:37:53:24\\tHuh? Why do I have to be the only one chased out?! Jeez! I guess it can’t be helped. Don’t peek! I know. Okay, show me your wound. How mean…\\n To hit me out of the blue…? Whoa, interesting. Naruto! You can come in! What?! A cute girl? Sakura! This girl!',\n",
       " 'Who the heck is this girl?! How dense. It’s the Ninja from a moment ago. Come to think of it…\\n Why…? I am Sasame Fuma. Sasame… Why were you being chased by those guys? If you like, try talking about it. We might be able to help. They were the Sound Ninja protecting Orochimaru’s residence. What?! I’m sorry for mistaking you guys as one of them the other day. That doesn’t matter! We’re also looking for Orochimaru! Would you please give us the details? Okay…\\n It all started with the Feudal Lord of the Land of Rice Paddies\\n launching an attack on a neighboring land\\n in an attempt to expand the territory. The Land of Rice Paddies is a small land…\\n And there aren’t that many Shinobi. It was a foolhardy attack. Losing was expected…\\n And the Shinobi clans of this land\\n who participated in the losing battle went to ruin…\\n We the Fuma Clan as well. I hear that among the surviving Shinobi,\\n there are those who have left the land\\n and those who have stooped to become thieves. Even so, we’ve lived believing in a restoration of the clan\\n and continued to live hiding in the shadows.',\n",
       " 'At that time, an emissary of Village Hidden in the Sound appeared before us\\n attempting to create the first full-scale Shinobi village in the Land of Rice Paddies. The emissary of the Sound Village said…\\n My master Orochimaru is gathering all sorts of Jutsu! He has taken an interest in your Jutsu well. Depending on your work,\\n you might be given the chance to serve the Feudal Lord! My cousin Arashi…\\n was an up-and-coming star for the restoration of the clan…\\n Arashi as a representative of the clan\\n headed for Village Hidden in the Sound together with the emissary. But…\\n And then…? We waited for a notice from Arashi, but…\\n There is no word from him, huh? Damn it! He was tricked by that Orochimaru! Naruto! Oh…! Uh, even so, your cousin Arashi might be safe…\\n We don’t know, right? And so…and so…\\n Idiot…! I’m going to save Arashi! I have a small body and my power is weak. So no matter what I did…\\n I did nothing but become a hindrance even in Ninjutsu training…\\n But Arashi always saved me! Everyone in the village has already given up, but…\\n So I’ll find Village Hidden in the Sound alone…\\n And so you were chased by the Sound Ninja, right? This time, it’s my turn to save Arashi! Sasame! I…I want to be of help to Arashi!',\n",
       " 'Naruto! Yeah…I know! We have to go to Village of the Sound to bring back Sasuke anyway, so! Now instead of one,\\n it’s just that there are two guys for us to bring back. I’ll save your cousin, Sasame! Right! Eew! A spider…\\n What’s this?! Naruto! Wha--! What’s this?! Ninja Art: Wind Spiders! My cute children made a path for me out of silver thread\\n and told me where you guys were going. All three of you together will descend into hell while bearing the secret! Naruto! It’s the Ventriloquism Jutsu! He’s scattering his voice to multiple directions\\n and covering up location and number! I get it! I leave this girl to you, Sakura! Multi-Shadow Clone Jutsu!',\n",
       " 'Okay! Bring it on from anywhere! It’s a large number, but it’s just Clone Jutsu. No. Look closely, Jigumo! The threads are getting tangled. All of the clones are tangible?! Shadow clones?! If so… Kagero! Understood…\\n Come out! Borne to be born, lived to live, one sunrise and one sunset…\\n The life of a mayfly lasts but one day. Thinking that such a fleeting life is pitiable is, in fact, pitiable…\\n Know that I’m at my best\\n when living in the dark and deep in the ground! Ninja Art:\\n Ant Lion Jutsu! When I recalled the parts one by one,\\n I felt as though I had understood everything\\n Faded words which I kept so close to me\\n Speechless nights, a hint of warmth,\\n and this distant yearning for you\\n I live, simply repeating this cycle\\n Held in my two hands A droplet of time\\n Softly clutching forgotten memories Lost words\\n I’ll keep these thoughts…\\n Darn it! What a pesky bunch! But I won’t be done in so easily! I have to kick that Orochimaru jerk’s butt\\n and bring back Sasuke and Sasame’s cousin! It doesn’t matter if you guys are powerhouses! I’ll kick all of your butts, so bring it on from anywhere! Next episode, “Pure Betrayal, and a Fleeting Plea!”']"
      ]
     },
     "execution_count": 30,
     "metadata": {},
     "output_type": "execute_result"
    }
   ],
   "source": [
    "script_batches"
   ]
  },
  {
   "cell_type": "code",
   "execution_count": 31,
   "metadata": {},
   "outputs": [],
   "source": [
    "theme_output = theme_classifier(\n",
    "    script_batches[:2],\n",
    "    candidate_labels,\n",
    "    multi_label=True\n",
    ")"
   ]
  },
  {
   "cell_type": "code",
   "execution_count": 32,
   "metadata": {},
   "outputs": [
    {
     "data": {
      "text/plain": [
       "[{'sequence': \"Hey boys, listen up! Humans aren’t such a big deal\\n Who needs tomorrow anyway,\\n so don’t hide your fists\\n You’re not old enough\\n to sell your dreams away to uncertainty\\n Hey boys, you’re the only ones\\n who can pull the trigger in your heart\\n All the kids said\\n We’re living in this senseless, ridiculous,\\n awesome world right at this moment,\\n All the kids said\\n Don’t forget every truth or lie\\n All the kids said\\n We’re way too young to die\\n In this empty town lined with empty faces\\n All the kids took off\\n into this windless night\\n Because they want to change something\\n A Town of Outlaws! The Shadow of the Fuma Clan\\n It seems that the most bustling traveler’s town in the Land of Rice Paddies\\n is at the bottom of these mountains. You’re going to weird places again\\n in the name of investigation, aren’t you, Pervy Sage?! Please stop it already! We had a rough time shaking off the bodyguards from the rip-off bar. I understand your point,\\n but there’s no other way to find Village Hidden in the Sound. Gee, I don’t like it either, but…\\n This is truly a problem…\\n But we have to do things we don’t like… Right?! Okay, let’s go! Naruto, Sakura, don’t drag your feet! Investigation, investigation! What a pain. He looks like he’s having fun. He hasn’t learned at all. Fuma Alley\\n – Oww! – That's my line! This is even rougher than the traveler’s town before. Let’s just take a pass on this place and find Village Hidden in the Sound. Say…\\n I don’t have any more money. I don’t have any more money either!\",\n",
       "  'labels': ['dialogue',\n",
       "   'sacrifice',\n",
       "   'self development',\n",
       "   'betrayal',\n",
       "   'battle',\n",
       "   'hope',\n",
       "   'friendship',\n",
       "   'love'],\n",
       "  'scores': [0.9408128261566162,\n",
       "   0.8488307595252991,\n",
       "   0.789034366607666,\n",
       "   0.7351801991462708,\n",
       "   0.7231693863868713,\n",
       "   0.4617510139942169,\n",
       "   0.3505013585090637,\n",
       "   0.13266074657440186]},\n",
       " {'sequence': 'Here! You guys go get some food with that\\n and wait in the temple on the outskirts of town. Information accumulates in this kind of place,\\n but it’s not good for you guys to see. I’ll sacrifice myself and check it out. He’s a surprisingly nice person…\\n Sakura… You’re still so naïve. Where should I investigate first? Gee, how rough… lnvestigations are painful. Let’s leave the Pervy Sage be and check somewhere else. What’s the matter, Sakura? I don’t think… Sasuke’s in this land anymore. What’s the matter?! We won’t know that if we don’t investigate! Yeah, but…\\n Our opponent is Orochimaru. Of course, things might not go easily. But you know…\\n But I’m sure we’ll find him! Right. Naruto! You’re…the one from before?! This kid’s…hurt…\\n You…? Naruto!',\n",
       "  'labels': ['dialogue',\n",
       "   'sacrifice',\n",
       "   'self development',\n",
       "   'battle',\n",
       "   'friendship',\n",
       "   'hope',\n",
       "   'betrayal',\n",
       "   'love'],\n",
       "  'scores': [0.9926508665084839,\n",
       "   0.9906684756278992,\n",
       "   0.9584247469902039,\n",
       "   0.917252779006958,\n",
       "   0.8262737989425659,\n",
       "   0.8220981955528259,\n",
       "   0.7766664624214172,\n",
       "   0.4894184172153473]}]"
      ]
     },
     "execution_count": 32,
     "metadata": {},
     "output_type": "execute_result"
    }
   ],
   "source": [
    "theme_output"
   ]
  },
  {
   "cell_type": "code",
   "execution_count": 33,
   "metadata": {},
   "outputs": [],
   "source": [
    "#wrangle output\n",
    "themes={}\n",
    "for output in theme_output:\n",
    "    for label,score in zip(output['labels'],output['scores']):\n",
    "        if label not in themes:\n",
    "            themes[label]=[]\n",
    "        themes[label].append(score)"
   ]
  },
  {
   "cell_type": "code",
   "execution_count": 34,
   "metadata": {},
   "outputs": [
    {
     "data": {
      "text/plain": [
       "{'dialogue': [0.9408128261566162, 0.9926508665084839],\n",
       " 'sacrifice': [0.8488307595252991, 0.9906684756278992],\n",
       " 'self development': [0.789034366607666, 0.9584247469902039],\n",
       " 'betrayal': [0.7351801991462708, 0.7766664624214172],\n",
       " 'battle': [0.7231693863868713, 0.917252779006958],\n",
       " 'hope': [0.4617510139942169, 0.8220981955528259],\n",
       " 'friendship': [0.3505013585090637, 0.8262737989425659],\n",
       " 'love': [0.13266074657440186, 0.4894184172153473]}"
      ]
     },
     "execution_count": 34,
     "metadata": {},
     "output_type": "execute_result"
    }
   ],
   "source": [
    "themes"
   ]
  },
  {
   "cell_type": "code",
   "execution_count": 35,
   "metadata": {},
   "outputs": [],
   "source": [
    "def get_themes_inference(script):\n",
    "    script_sentences = sent_tokenize(script)\n",
    "    script_batches = []\n",
    "    sentence_batch_size=20\n",
    "    for index in range(0,len(script_sentences),sentence_batch_size):\n",
    "        sent = \" \".join(script_sentences[index:index+sentence_batch_size])\n",
    "        script_batches.append(sent)\n",
    "        \n",
    "    # Run model\n",
    "    theme_output = theme_classifier(script_batches[:2], \n",
    "                       candidate_labels,multi_label=True)\n",
    "    \n",
    "    # Wrangle Output\n",
    "    themes={}\n",
    "    for output in  theme_output:\n",
    "        for label, score in zip(output['labels'],output['scores']):\n",
    "            if label not in themes:\n",
    "                themes[label]=[]\n",
    "            themes[label].append(score)\n",
    "    \n",
    "    themes =  {key:np.mean(np.array(value)) for key,value in themes.items()}\n",
    "   \n",
    "    return themes"
   ]
  },
  {
   "cell_type": "code",
   "execution_count": null,
   "metadata": {},
   "outputs": [],
   "source": []
  },
  {
   "cell_type": "code",
   "execution_count": 36,
   "metadata": {},
   "outputs": [],
   "source": [
    "df = df.head(2)\n"
   ]
  },
  {
   "cell_type": "code",
   "execution_count": 37,
   "metadata": {},
   "outputs": [
    {
     "data": {
      "text/html": [
       "<div>\n",
       "<style scoped>\n",
       "    .dataframe tbody tr th:only-of-type {\n",
       "        vertical-align: middle;\n",
       "    }\n",
       "\n",
       "    .dataframe tbody tr th {\n",
       "        vertical-align: top;\n",
       "    }\n",
       "\n",
       "    .dataframe thead th {\n",
       "        text-align: right;\n",
       "    }\n",
       "</style>\n",
       "<table border=\"1\" class=\"dataframe\">\n",
       "  <thead>\n",
       "    <tr style=\"text-align: right;\">\n",
       "      <th></th>\n",
       "      <th>episode</th>\n",
       "      <th>script</th>\n",
       "    </tr>\n",
       "  </thead>\n",
       "  <tbody>\n",
       "    <tr>\n",
       "      <th>0</th>\n",
       "      <td>137</td>\n",
       "      <td>Hey boys, listen up!\\n Humans aren’t such a bi...</td>\n",
       "    </tr>\n",
       "    <tr>\n",
       "      <th>1</th>\n",
       "      <td>138</td>\n",
       "      <td>Hey boys, listen up!\\n Humans aren’t such a bi...</td>\n",
       "    </tr>\n",
       "  </tbody>\n",
       "</table>\n",
       "</div>"
      ],
      "text/plain": [
       "   episode                                             script\n",
       "0      137  Hey boys, listen up!\\n Humans aren’t such a bi...\n",
       "1      138  Hey boys, listen up!\\n Humans aren’t such a bi..."
      ]
     },
     "execution_count": 37,
     "metadata": {},
     "output_type": "execute_result"
    }
   ],
   "source": [
    "df"
   ]
  },
  {
   "cell_type": "code",
   "execution_count": 40,
   "metadata": {},
   "outputs": [],
   "source": [
    "output_themes = df['script'].apply(get_themes_inference)\n"
   ]
  },
  {
   "cell_type": "code",
   "execution_count": 41,
   "metadata": {},
   "outputs": [
    {
     "data": {
      "text/plain": [
       "0    {'dialogue': 0.96673184633255, 'sacrifice': 0....\n",
       "1    {'betrayal': 0.6480903327465057, 'dialogue': 0...\n",
       "Name: script, dtype: object"
      ]
     },
     "execution_count": 41,
     "metadata": {},
     "output_type": "execute_result"
    }
   ],
   "source": [
    "output_themes\n"
   ]
  },
  {
   "cell_type": "code",
   "execution_count": 42,
   "metadata": {},
   "outputs": [],
   "source": [
    "theme_df = pd.DataFrame(output_themes.tolist())\n"
   ]
  },
  {
   "cell_type": "code",
   "execution_count": 43,
   "metadata": {},
   "outputs": [
    {
     "data": {
      "text/html": [
       "<div>\n",
       "<style scoped>\n",
       "    .dataframe tbody tr th:only-of-type {\n",
       "        vertical-align: middle;\n",
       "    }\n",
       "\n",
       "    .dataframe tbody tr th {\n",
       "        vertical-align: top;\n",
       "    }\n",
       "\n",
       "    .dataframe thead th {\n",
       "        text-align: right;\n",
       "    }\n",
       "</style>\n",
       "<table border=\"1\" class=\"dataframe\">\n",
       "  <thead>\n",
       "    <tr style=\"text-align: right;\">\n",
       "      <th></th>\n",
       "      <th>dialogue</th>\n",
       "      <th>sacrifice</th>\n",
       "      <th>self development</th>\n",
       "      <th>betrayal</th>\n",
       "      <th>battle</th>\n",
       "      <th>hope</th>\n",
       "      <th>friendship</th>\n",
       "      <th>love</th>\n",
       "    </tr>\n",
       "  </thead>\n",
       "  <tbody>\n",
       "    <tr>\n",
       "      <th>0</th>\n",
       "      <td>0.966732</td>\n",
       "      <td>0.919750</td>\n",
       "      <td>0.873730</td>\n",
       "      <td>0.755923</td>\n",
       "      <td>0.820211</td>\n",
       "      <td>0.641925</td>\n",
       "      <td>0.588388</td>\n",
       "      <td>0.311040</td>\n",
       "    </tr>\n",
       "    <tr>\n",
       "      <th>1</th>\n",
       "      <td>0.973224</td>\n",
       "      <td>0.636622</td>\n",
       "      <td>0.757359</td>\n",
       "      <td>0.648090</td>\n",
       "      <td>0.711326</td>\n",
       "      <td>0.501585</td>\n",
       "      <td>0.348399</td>\n",
       "      <td>0.192662</td>\n",
       "    </tr>\n",
       "  </tbody>\n",
       "</table>\n",
       "</div>"
      ],
      "text/plain": [
       "   dialogue  sacrifice  self development  betrayal    battle      hope  \\\n",
       "0  0.966732   0.919750          0.873730  0.755923  0.820211  0.641925   \n",
       "1  0.973224   0.636622          0.757359  0.648090  0.711326  0.501585   \n",
       "\n",
       "   friendship      love  \n",
       "0    0.588388  0.311040  \n",
       "1    0.348399  0.192662  "
      ]
     },
     "execution_count": 43,
     "metadata": {},
     "output_type": "execute_result"
    }
   ],
   "source": [
    "theme_df\n"
   ]
  },
  {
   "cell_type": "code",
   "execution_count": 44,
   "metadata": {},
   "outputs": [
    {
     "data": {
      "text/html": [
       "<div>\n",
       "<style scoped>\n",
       "    .dataframe tbody tr th:only-of-type {\n",
       "        vertical-align: middle;\n",
       "    }\n",
       "\n",
       "    .dataframe tbody tr th {\n",
       "        vertical-align: top;\n",
       "    }\n",
       "\n",
       "    .dataframe thead th {\n",
       "        text-align: right;\n",
       "    }\n",
       "</style>\n",
       "<table border=\"1\" class=\"dataframe\">\n",
       "  <thead>\n",
       "    <tr style=\"text-align: right;\">\n",
       "      <th></th>\n",
       "      <th>episode</th>\n",
       "      <th>script</th>\n",
       "    </tr>\n",
       "  </thead>\n",
       "  <tbody>\n",
       "    <tr>\n",
       "      <th>0</th>\n",
       "      <td>137</td>\n",
       "      <td>Hey boys, listen up!\\n Humans aren’t such a bi...</td>\n",
       "    </tr>\n",
       "    <tr>\n",
       "      <th>1</th>\n",
       "      <td>138</td>\n",
       "      <td>Hey boys, listen up!\\n Humans aren’t such a bi...</td>\n",
       "    </tr>\n",
       "  </tbody>\n",
       "</table>\n",
       "</div>"
      ],
      "text/plain": [
       "   episode                                             script\n",
       "0      137  Hey boys, listen up!\\n Humans aren’t such a bi...\n",
       "1      138  Hey boys, listen up!\\n Humans aren’t such a bi..."
      ]
     },
     "execution_count": 44,
     "metadata": {},
     "output_type": "execute_result"
    }
   ],
   "source": [
    "df"
   ]
  },
  {
   "cell_type": "code",
   "execution_count": 45,
   "metadata": {},
   "outputs": [
    {
     "data": {
      "text/html": [
       "<div>\n",
       "<style scoped>\n",
       "    .dataframe tbody tr th:only-of-type {\n",
       "        vertical-align: middle;\n",
       "    }\n",
       "\n",
       "    .dataframe tbody tr th {\n",
       "        vertical-align: top;\n",
       "    }\n",
       "\n",
       "    .dataframe thead th {\n",
       "        text-align: right;\n",
       "    }\n",
       "</style>\n",
       "<table border=\"1\" class=\"dataframe\">\n",
       "  <thead>\n",
       "    <tr style=\"text-align: right;\">\n",
       "      <th></th>\n",
       "      <th>episode</th>\n",
       "      <th>script</th>\n",
       "      <th>dialogue</th>\n",
       "      <th>sacrifice</th>\n",
       "      <th>self development</th>\n",
       "      <th>betrayal</th>\n",
       "      <th>battle</th>\n",
       "      <th>hope</th>\n",
       "      <th>friendship</th>\n",
       "      <th>love</th>\n",
       "    </tr>\n",
       "  </thead>\n",
       "  <tbody>\n",
       "    <tr>\n",
       "      <th>0</th>\n",
       "      <td>137</td>\n",
       "      <td>Hey boys, listen up!\\n Humans aren’t such a bi...</td>\n",
       "      <td>0.966732</td>\n",
       "      <td>0.919750</td>\n",
       "      <td>0.873730</td>\n",
       "      <td>0.755923</td>\n",
       "      <td>0.820211</td>\n",
       "      <td>0.641925</td>\n",
       "      <td>0.588388</td>\n",
       "      <td>0.311040</td>\n",
       "    </tr>\n",
       "    <tr>\n",
       "      <th>1</th>\n",
       "      <td>138</td>\n",
       "      <td>Hey boys, listen up!\\n Humans aren’t such a bi...</td>\n",
       "      <td>0.973224</td>\n",
       "      <td>0.636622</td>\n",
       "      <td>0.757359</td>\n",
       "      <td>0.648090</td>\n",
       "      <td>0.711326</td>\n",
       "      <td>0.501585</td>\n",
       "      <td>0.348399</td>\n",
       "      <td>0.192662</td>\n",
       "    </tr>\n",
       "  </tbody>\n",
       "</table>\n",
       "</div>"
      ],
      "text/plain": [
       "   episode                                             script  dialogue  \\\n",
       "0      137  Hey boys, listen up!\\n Humans aren’t such a bi...  0.966732   \n",
       "1      138  Hey boys, listen up!\\n Humans aren’t such a bi...  0.973224   \n",
       "\n",
       "   sacrifice  self development  betrayal    battle      hope  friendship  \\\n",
       "0   0.919750          0.873730  0.755923  0.820211  0.641925    0.588388   \n",
       "1   0.636622          0.757359  0.648090  0.711326  0.501585    0.348399   \n",
       "\n",
       "       love  \n",
       "0  0.311040  \n",
       "1  0.192662  "
      ]
     },
     "execution_count": 45,
     "metadata": {},
     "output_type": "execute_result"
    }
   ],
   "source": [
    "df[theme_df.columns] = theme_df\n",
    "df"
   ]
  },
  {
   "cell_type": "code",
   "execution_count": 38,
   "metadata": {},
   "outputs": [],
   "source": [
    "# Visualize output"
   ]
  },
  {
   "cell_type": "code",
   "execution_count": 46,
   "metadata": {},
   "outputs": [],
   "source": [
    "df = df.drop('dialogue',axis=1)"
   ]
  },
  {
   "cell_type": "code",
   "execution_count": 50,
   "metadata": {},
   "outputs": [
    {
     "data": {
      "text/html": [
       "<div>\n",
       "<style scoped>\n",
       "    .dataframe tbody tr th:only-of-type {\n",
       "        vertical-align: middle;\n",
       "    }\n",
       "\n",
       "    .dataframe tbody tr th {\n",
       "        vertical-align: top;\n",
       "    }\n",
       "\n",
       "    .dataframe thead th {\n",
       "        text-align: right;\n",
       "    }\n",
       "</style>\n",
       "<table border=\"1\" class=\"dataframe\">\n",
       "  <thead>\n",
       "    <tr style=\"text-align: right;\">\n",
       "      <th></th>\n",
       "      <th>theme</th>\n",
       "      <th>score</th>\n",
       "    </tr>\n",
       "  </thead>\n",
       "  <tbody>\n",
       "    <tr>\n",
       "      <th>0</th>\n",
       "      <td>sacrifice</td>\n",
       "      <td>1.556371</td>\n",
       "    </tr>\n",
       "    <tr>\n",
       "      <th>1</th>\n",
       "      <td>self development</td>\n",
       "      <td>1.631089</td>\n",
       "    </tr>\n",
       "    <tr>\n",
       "      <th>2</th>\n",
       "      <td>betrayal</td>\n",
       "      <td>1.404014</td>\n",
       "    </tr>\n",
       "    <tr>\n",
       "      <th>3</th>\n",
       "      <td>battle</td>\n",
       "      <td>1.531537</td>\n",
       "    </tr>\n",
       "    <tr>\n",
       "      <th>4</th>\n",
       "      <td>hope</td>\n",
       "      <td>1.143509</td>\n",
       "    </tr>\n",
       "    <tr>\n",
       "      <th>5</th>\n",
       "      <td>friendship</td>\n",
       "      <td>0.936786</td>\n",
       "    </tr>\n",
       "    <tr>\n",
       "      <th>6</th>\n",
       "      <td>love</td>\n",
       "      <td>0.503701</td>\n",
       "    </tr>\n",
       "  </tbody>\n",
       "</table>\n",
       "</div>"
      ],
      "text/plain": [
       "              theme     score\n",
       "0         sacrifice  1.556371\n",
       "1  self development  1.631089\n",
       "2          betrayal  1.404014\n",
       "3            battle  1.531537\n",
       "4              hope  1.143509\n",
       "5        friendship  0.936786\n",
       "6              love  0.503701"
      ]
     },
     "execution_count": 50,
     "metadata": {},
     "output_type": "execute_result"
    }
   ],
   "source": [
    "theme_output = df.drop(['episode','script'],axis=1).sum().reset_index()\n",
    "\n",
    "theme_output.columns = ['theme','score']\n",
    "theme_output\n",
    "\n"
   ]
  },
  {
   "cell_type": "code",
   "execution_count": 52,
   "metadata": {},
   "outputs": [
    {
     "name": "stdout",
     "output_type": "stream",
     "text": [
      "Collecting matplotlib\n",
      "  Downloading matplotlib-3.9.2-cp312-cp312-win_amd64.whl.metadata (11 kB)\n",
      "Collecting contourpy>=1.0.1 (from matplotlib)\n",
      "  Downloading contourpy-1.3.0-cp312-cp312-win_amd64.whl.metadata (5.4 kB)\n",
      "Collecting cycler>=0.10 (from matplotlib)\n",
      "  Using cached cycler-0.12.1-py3-none-any.whl.metadata (3.8 kB)\n",
      "Collecting fonttools>=4.22.0 (from matplotlib)\n",
      "  Downloading fonttools-4.53.1-cp312-cp312-win_amd64.whl.metadata (165 kB)\n",
      "Collecting kiwisolver>=1.3.1 (from matplotlib)\n",
      "  Using cached kiwisolver-1.4.5-cp312-cp312-win_amd64.whl.metadata (6.5 kB)\n",
      "Requirement already satisfied: numpy>=1.23 in c:\\users\\phili\\anaconda3\\envs\\gradiowin\\lib\\site-packages (from matplotlib) (1.26.4)\n",
      "Requirement already satisfied: packaging>=20.0 in c:\\users\\phili\\anaconda3\\envs\\gradiowin\\lib\\site-packages (from matplotlib) (24.1)\n",
      "Collecting pillow>=8 (from matplotlib)\n",
      "  Downloading pillow-10.4.0-cp312-cp312-win_amd64.whl.metadata (9.3 kB)\n",
      "Collecting pyparsing>=2.3.1 (from matplotlib)\n",
      "  Downloading pyparsing-3.1.4-py3-none-any.whl.metadata (5.1 kB)\n",
      "Requirement already satisfied: python-dateutil>=2.7 in c:\\users\\phili\\anaconda3\\envs\\gradiowin\\lib\\site-packages (from matplotlib) (2.9.0)\n",
      "Requirement already satisfied: six>=1.5 in c:\\users\\phili\\anaconda3\\envs\\gradiowin\\lib\\site-packages (from python-dateutil>=2.7->matplotlib) (1.16.0)\n",
      "Downloading matplotlib-3.9.2-cp312-cp312-win_amd64.whl (7.8 MB)\n",
      "   ---------------------------------------- 0.0/7.8 MB ? eta -:--:--\n",
      "   ----- ---------------------------------- 1.0/7.8 MB 5.6 MB/s eta 0:00:02\n",
      "   --------- ------------------------------ 1.8/7.8 MB 5.0 MB/s eta 0:00:02\n",
      "   -------------- ------------------------- 2.9/7.8 MB 4.7 MB/s eta 0:00:02\n",
      "   -------------------- ------------------- 3.9/7.8 MB 4.8 MB/s eta 0:00:01\n",
      "   ------------------------- -------------- 5.0/7.8 MB 4.9 MB/s eta 0:00:01\n",
      "   -------------------------------- ------- 6.3/7.8 MB 5.0 MB/s eta 0:00:01\n",
      "   ---------------------------------- ----- 6.8/7.8 MB 4.8 MB/s eta 0:00:01\n",
      "   -------------------------------------- - 7.6/7.8 MB 4.6 MB/s eta 0:00:01\n",
      "   ---------------------------------------- 7.8/7.8 MB 4.6 MB/s eta 0:00:00\n",
      "Downloading contourpy-1.3.0-cp312-cp312-win_amd64.whl (218 kB)\n",
      "Using cached cycler-0.12.1-py3-none-any.whl (8.3 kB)\n",
      "Downloading fonttools-4.53.1-cp312-cp312-win_amd64.whl (2.2 MB)\n",
      "   ---------------------------------------- 0.0/2.2 MB ? eta -:--:--\n",
      "   ------------------- -------------------- 1.0/2.2 MB 5.6 MB/s eta 0:00:01\n",
      "   ---------------------------------------- 2.2/2.2 MB 5.6 MB/s eta 0:00:00\n",
      "Using cached kiwisolver-1.4.5-cp312-cp312-win_amd64.whl (56 kB)\n",
      "Downloading pillow-10.4.0-cp312-cp312-win_amd64.whl (2.6 MB)\n",
      "   ---------------------------------------- 0.0/2.6 MB ? eta -:--:--\n",
      "   ------------ --------------------------- 0.8/2.6 MB 4.8 MB/s eta 0:00:01\n",
      "   ---------------------------- ----------- 1.8/2.6 MB 4.6 MB/s eta 0:00:01\n",
      "   ---------------------------------------- 2.6/2.6 MB 4.2 MB/s eta 0:00:00\n",
      "Downloading pyparsing-3.1.4-py3-none-any.whl (104 kB)\n",
      "Installing collected packages: pyparsing, pillow, kiwisolver, fonttools, cycler, contourpy, matplotlib\n",
      "Successfully installed contourpy-1.3.0 cycler-0.12.1 fonttools-4.53.1 kiwisolver-1.4.5 matplotlib-3.9.2 pillow-10.4.0 pyparsing-3.1.4\n",
      "Note: you may need to restart the kernel to use updated packages.\n",
      "Collecting seaborn\n",
      "  Using cached seaborn-0.13.2-py3-none-any.whl.metadata (5.4 kB)\n",
      "Requirement already satisfied: numpy!=1.24.0,>=1.20 in c:\\users\\phili\\anaconda3\\envs\\gradiowin\\lib\\site-packages (from seaborn) (1.26.4)\n",
      "Requirement already satisfied: pandas>=1.2 in c:\\users\\phili\\anaconda3\\envs\\gradiowin\\lib\\site-packages (from seaborn) (2.2.2)\n",
      "Requirement already satisfied: matplotlib!=3.6.1,>=3.4 in c:\\users\\phili\\anaconda3\\envs\\gradiowin\\lib\\site-packages (from seaborn) (3.9.2)\n",
      "Requirement already satisfied: contourpy>=1.0.1 in c:\\users\\phili\\anaconda3\\envs\\gradiowin\\lib\\site-packages (from matplotlib!=3.6.1,>=3.4->seaborn) (1.3.0)\n",
      "Requirement already satisfied: cycler>=0.10 in c:\\users\\phili\\anaconda3\\envs\\gradiowin\\lib\\site-packages (from matplotlib!=3.6.1,>=3.4->seaborn) (0.12.1)\n",
      "Requirement already satisfied: fonttools>=4.22.0 in c:\\users\\phili\\anaconda3\\envs\\gradiowin\\lib\\site-packages (from matplotlib!=3.6.1,>=3.4->seaborn) (4.53.1)\n",
      "Requirement already satisfied: kiwisolver>=1.3.1 in c:\\users\\phili\\anaconda3\\envs\\gradiowin\\lib\\site-packages (from matplotlib!=3.6.1,>=3.4->seaborn) (1.4.5)\n",
      "Requirement already satisfied: packaging>=20.0 in c:\\users\\phili\\anaconda3\\envs\\gradiowin\\lib\\site-packages (from matplotlib!=3.6.1,>=3.4->seaborn) (24.1)\n",
      "Requirement already satisfied: pillow>=8 in c:\\users\\phili\\anaconda3\\envs\\gradiowin\\lib\\site-packages (from matplotlib!=3.6.1,>=3.4->seaborn) (10.4.0)\n",
      "Requirement already satisfied: pyparsing>=2.3.1 in c:\\users\\phili\\anaconda3\\envs\\gradiowin\\lib\\site-packages (from matplotlib!=3.6.1,>=3.4->seaborn) (3.1.4)\n",
      "Requirement already satisfied: python-dateutil>=2.7 in c:\\users\\phili\\anaconda3\\envs\\gradiowin\\lib\\site-packages (from matplotlib!=3.6.1,>=3.4->seaborn) (2.9.0)\n",
      "Requirement already satisfied: pytz>=2020.1 in c:\\users\\phili\\anaconda3\\envs\\gradiowin\\lib\\site-packages (from pandas>=1.2->seaborn) (2024.1)\n",
      "Requirement already satisfied: tzdata>=2022.7 in c:\\users\\phili\\anaconda3\\envs\\gradiowin\\lib\\site-packages (from pandas>=1.2->seaborn) (2024.1)\n",
      "Requirement already satisfied: six>=1.5 in c:\\users\\phili\\anaconda3\\envs\\gradiowin\\lib\\site-packages (from python-dateutil>=2.7->matplotlib!=3.6.1,>=3.4->seaborn) (1.16.0)\n",
      "Using cached seaborn-0.13.2-py3-none-any.whl (294 kB)\n",
      "Installing collected packages: seaborn\n",
      "Successfully installed seaborn-0.13.2\n",
      "Note: you may need to restart the kernel to use updated packages.\n"
     ]
    }
   ],
   "source": [
    "%pip install matplotlib\n",
    "%pip install seaborn\n",
    "import matplotlib.pyplot as plt\n",
    "import seaborn as sns\n"
   ]
  },
  {
   "cell_type": "code",
   "execution_count": 54,
   "metadata": {},
   "outputs": [
    {
     "data": {
      "image/png": "[encoded data removed]",
      "text/plain": [
       "<Figure size 640x480 with 1 Axes>"
      ]
     },
     "metadata": {},
     "output_type": "display_data"
    }
   ],
   "source": [
    "sns.barplot(data = theme_output, x='theme',y='score')\n",
    "plt.xticks(rotation=45)\n",
    "plt.show()\n"
   ]
  }
 ],
 "metadata": {
  "kernelspec": {
   "display_name": ".venv",
   "language": "python",
   "name": "python3"
  },
  "language_info": {
   "codemirror_mode": {
    "name": "ipython",
    "version": 3
   },
   "file_extension": ".py",
   "mimetype": "text/x-python",
   "name": "python",
   "nbconvert_exporter": "python",
   "pygments_lexer": "ipython3",
   "version": "3.12.5"
  }
 },
 "nbformat": 4,
 "nbformat_minor": 2
}

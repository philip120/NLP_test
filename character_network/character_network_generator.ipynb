{
 "cells": [
  {
   "cell_type": "code",
   "execution_count": null,
   "metadata": {},
   "outputs": [],
   "source": [
    "# Named entity recognition"
   ]
  },
  {
   "cell_type": "code",
   "execution_count": 19,
   "metadata": {},
   "outputs": [
    {
     "name": "stdout",
     "output_type": "stream",
     "text": [
      "Requirement already satisfied: spacy in c:\\users\\phili\\anaconda3\\envs\\gradiowin\\lib\\site-packages (3.7.6)\n",
      "Requirement already satisfied: spacy-legacy<3.1.0,>=3.0.11 in c:\\users\\phili\\anaconda3\\envs\\gradiowin\\lib\\site-packages (from spacy) (3.0.12)\n",
      "Requirement already satisfied: spacy-loggers<2.0.0,>=1.0.0 in c:\\users\\phili\\anaconda3\\envs\\gradiowin\\lib\\site-packages (from spacy) (1.0.5)\n",
      "Requirement already satisfied: murmurhash<1.1.0,>=0.28.0 in c:\\users\\phili\\anaconda3\\envs\\gradiowin\\lib\\site-packages (from spacy) (1.0.10)\n",
      "Requirement already satisfied: cymem<2.1.0,>=2.0.2 in c:\\users\\phili\\anaconda3\\envs\\gradiowin\\lib\\site-packages (from spacy) (2.0.8)\n",
      "Requirement already satisfied: preshed<3.1.0,>=3.0.2 in c:\\users\\phili\\anaconda3\\envs\\gradiowin\\lib\\site-packages (from spacy) (3.0.9)\n",
      "Requirement already satisfied: thinc<8.3.0,>=8.2.2 in c:\\users\\phili\\anaconda3\\envs\\gradiowin\\lib\\site-packages (from spacy) (8.2.5)\n",
      "Requirement already satisfied: wasabi<1.2.0,>=0.9.1 in c:\\users\\phili\\anaconda3\\envs\\gradiowin\\lib\\site-packages (from spacy) (1.1.3)\n",
      "Requirement already satisfied: srsly<3.0.0,>=2.4.3 in c:\\users\\phili\\anaconda3\\envs\\gradiowin\\lib\\site-packages (from spacy) (2.4.8)\n",
      "Requirement already satisfied: catalogue<2.1.0,>=2.0.6 in c:\\users\\phili\\anaconda3\\envs\\gradiowin\\lib\\site-packages (from spacy) (2.0.10)\n",
      "Requirement already satisfied: weasel<0.5.0,>=0.1.0 in c:\\users\\phili\\anaconda3\\envs\\gradiowin\\lib\\site-packages (from spacy) (0.4.1)\n",
      "Requirement already satisfied: typer<1.0.0,>=0.3.0 in c:\\users\\phili\\anaconda3\\envs\\gradiowin\\lib\\site-packages (from spacy) (0.12.5)\n",
      "Requirement already satisfied: tqdm<5.0.0,>=4.38.0 in c:\\users\\phili\\anaconda3\\envs\\gradiowin\\lib\\site-packages (from spacy) (4.66.5)\n",
      "Requirement already satisfied: requests<3.0.0,>=2.13.0 in c:\\users\\phili\\anaconda3\\envs\\gradiowin\\lib\\site-packages (from spacy) (2.32.3)\n",
      "Requirement already satisfied: pydantic!=1.8,!=1.8.1,<3.0.0,>=1.7.4 in c:\\users\\phili\\anaconda3\\envs\\gradiowin\\lib\\site-packages (from spacy) (2.8.2)\n",
      "Requirement already satisfied: jinja2 in c:\\users\\phili\\anaconda3\\envs\\gradiowin\\lib\\site-packages (from spacy) (3.1.4)\n",
      "Requirement already satisfied: setuptools in c:\\users\\phili\\anaconda3\\envs\\gradiowin\\lib\\site-packages (from spacy) (72.2.0)\n",
      "Requirement already satisfied: packaging>=20.0 in c:\\users\\phili\\anaconda3\\envs\\gradiowin\\lib\\site-packages (from spacy) (24.1)\n",
      "Requirement already satisfied: langcodes<4.0.0,>=3.2.0 in c:\\users\\phili\\anaconda3\\envs\\gradiowin\\lib\\site-packages (from spacy) (3.4.0)\n",
      "Requirement already satisfied: numpy>=1.19.0 in c:\\users\\phili\\anaconda3\\envs\\gradiowin\\lib\\site-packages (from spacy) (1.26.4)\n",
      "Requirement already satisfied: language-data>=1.2 in c:\\users\\phili\\anaconda3\\envs\\gradiowin\\lib\\site-packages (from langcodes<4.0.0,>=3.2.0->spacy) (1.2.0)\n",
      "Requirement already satisfied: annotated-types>=0.4.0 in c:\\users\\phili\\anaconda3\\envs\\gradiowin\\lib\\site-packages (from pydantic!=1.8,!=1.8.1,<3.0.0,>=1.7.4->spacy) (0.7.0)\n",
      "Requirement already satisfied: pydantic-core==2.20.1 in c:\\users\\phili\\anaconda3\\envs\\gradiowin\\lib\\site-packages (from pydantic!=1.8,!=1.8.1,<3.0.0,>=1.7.4->spacy) (2.20.1)\n",
      "Requirement already satisfied: typing-extensions>=4.6.1 in c:\\users\\phili\\anaconda3\\envs\\gradiowin\\lib\\site-packages (from pydantic!=1.8,!=1.8.1,<3.0.0,>=1.7.4->spacy) (4.12.2)\n",
      "Requirement already satisfied: charset-normalizer<4,>=2 in c:\\users\\phili\\anaconda3\\envs\\gradiowin\\lib\\site-packages (from requests<3.0.0,>=2.13.0->spacy) (3.3.2)\n",
      "Requirement already satisfied: idna<4,>=2.5 in c:\\users\\phili\\anaconda3\\envs\\gradiowin\\lib\\site-packages (from requests<3.0.0,>=2.13.0->spacy) (3.8)\n",
      "Requirement already satisfied: urllib3<3,>=1.21.1 in c:\\users\\phili\\anaconda3\\envs\\gradiowin\\lib\\site-packages (from requests<3.0.0,>=2.13.0->spacy) (2.2.2)\n",
      "Requirement already satisfied: certifi>=2017.4.17 in c:\\users\\phili\\anaconda3\\envs\\gradiowin\\lib\\site-packages (from requests<3.0.0,>=2.13.0->spacy) (2024.7.4)\n",
      "Requirement already satisfied: blis<0.8.0,>=0.7.8 in c:\\users\\phili\\anaconda3\\envs\\gradiowin\\lib\\site-packages (from thinc<8.3.0,>=8.2.2->spacy) (0.7.11)\n",
      "Requirement already satisfied: confection<1.0.0,>=0.0.1 in c:\\users\\phili\\anaconda3\\envs\\gradiowin\\lib\\site-packages (from thinc<8.3.0,>=8.2.2->spacy) (0.1.5)\n",
      "Requirement already satisfied: colorama in c:\\users\\phili\\anaconda3\\envs\\gradiowin\\lib\\site-packages (from tqdm<5.0.0,>=4.38.0->spacy) (0.4.6)\n",
      "Requirement already satisfied: click>=8.0.0 in c:\\users\\phili\\anaconda3\\envs\\gradiowin\\lib\\site-packages (from typer<1.0.0,>=0.3.0->spacy) (8.1.7)\n",
      "Requirement already satisfied: shellingham>=1.3.0 in c:\\users\\phili\\anaconda3\\envs\\gradiowin\\lib\\site-packages (from typer<1.0.0,>=0.3.0->spacy) (1.5.4)\n",
      "Requirement already satisfied: rich>=10.11.0 in c:\\users\\phili\\anaconda3\\envs\\gradiowin\\lib\\site-packages (from typer<1.0.0,>=0.3.0->spacy) (13.8.0)\n",
      "Requirement already satisfied: cloudpathlib<1.0.0,>=0.7.0 in c:\\users\\phili\\anaconda3\\envs\\gradiowin\\lib\\site-packages (from weasel<0.5.0,>=0.1.0->spacy) (0.19.0)\n",
      "Requirement already satisfied: smart-open<8.0.0,>=5.2.1 in c:\\users\\phili\\anaconda3\\envs\\gradiowin\\lib\\site-packages (from weasel<0.5.0,>=0.1.0->spacy) (7.0.4)\n",
      "Requirement already satisfied: MarkupSafe>=2.0 in c:\\users\\phili\\anaconda3\\envs\\gradiowin\\lib\\site-packages (from jinja2->spacy) (2.1.5)\n",
      "Requirement already satisfied: marisa-trie>=0.7.7 in c:\\users\\phili\\anaconda3\\envs\\gradiowin\\lib\\site-packages (from language-data>=1.2->langcodes<4.0.0,>=3.2.0->spacy) (1.2.0)\n",
      "Requirement already satisfied: markdown-it-py>=2.2.0 in c:\\users\\phili\\anaconda3\\envs\\gradiowin\\lib\\site-packages (from rich>=10.11.0->typer<1.0.0,>=0.3.0->spacy) (3.0.0)\n",
      "Requirement already satisfied: pygments<3.0.0,>=2.13.0 in c:\\users\\phili\\anaconda3\\envs\\gradiowin\\lib\\site-packages (from rich>=10.11.0->typer<1.0.0,>=0.3.0->spacy) (2.18.0)\n",
      "Requirement already satisfied: wrapt in c:\\users\\phili\\anaconda3\\envs\\gradiowin\\lib\\site-packages (from smart-open<8.0.0,>=5.2.1->weasel<0.5.0,>=0.1.0->spacy) (1.16.0)\n",
      "Requirement already satisfied: mdurl~=0.1 in c:\\users\\phili\\anaconda3\\envs\\gradiowin\\lib\\site-packages (from markdown-it-py>=2.2.0->rich>=10.11.0->typer<1.0.0,>=0.3.0->spacy) (0.1.2)\n",
      "Note: you may need to restart the kernel to use updated packages.\n"
     ]
    },
    {
     "name": "stderr",
     "output_type": "stream",
     "text": [
      "python: can't open file 'Y:\\\\home\\\\philip\\\\ai_stuff\\\\npl tutorial\\\\character_network\\\\install': [Errno 2] No such file or directory\n"
     ]
    }
   ],
   "source": [
    "%pip install spacy\n",
    "!python install -U spacy\n"
   ]
  },
  {
   "cell_type": "code",
   "execution_count": 20,
   "metadata": {},
   "outputs": [],
   "source": [
    "import spacy\n",
    "from nltk import sent_tokenize\n"
   ]
  },
  {
   "cell_type": "code",
   "execution_count": 28,
   "metadata": {},
   "outputs": [
    {
     "name": "stdout",
     "output_type": "stream",
     "text": [
      "Collecting en-core-web-sm==3.7.1\n",
      "  Downloading https://github.com/explosion/spacy-models/releases/download/en_core_web_sm-3.7.1/en_core_web_sm-3.7.1-py3-none-any.whl (12.8 MB)\n",
      "     ---------------------------------------- 0.0/12.8 MB ? eta -:--:--\n",
      "     ------------ --------------------------- 3.9/12.8 MB 23.5 MB/s eta 0:00:01\n",
      "     ------------------------ --------------- 7.9/12.8 MB 27.1 MB/s eta 0:00:01\n",
      "     --------------------------------------  12.6/12.8 MB 22.5 MB/s eta 0:00:01\n",
      "     --------------------------------------- 12.8/12.8 MB 21.7 MB/s eta 0:00:00\n",
      "Requirement already satisfied: spacy<3.8.0,>=3.7.2 in c:\\users\\phili\\anaconda3\\envs\\gradiowin\\lib\\site-packages (from en-core-web-sm==3.7.1) (3.7.6)\n",
      "Requirement already satisfied: spacy-legacy<3.1.0,>=3.0.11 in c:\\users\\phili\\anaconda3\\envs\\gradiowin\\lib\\site-packages (from spacy<3.8.0,>=3.7.2->en-core-web-sm==3.7.1) (3.0.12)\n",
      "Requirement already satisfied: spacy-loggers<2.0.0,>=1.0.0 in c:\\users\\phili\\anaconda3\\envs\\gradiowin\\lib\\site-packages (from spacy<3.8.0,>=3.7.2->en-core-web-sm==3.7.1) (1.0.5)\n",
      "Requirement already satisfied: murmurhash<1.1.0,>=0.28.0 in c:\\users\\phili\\anaconda3\\envs\\gradiowin\\lib\\site-packages (from spacy<3.8.0,>=3.7.2->en-core-web-sm==3.7.1) (1.0.10)\n",
      "Requirement already satisfied: cymem<2.1.0,>=2.0.2 in c:\\users\\phili\\anaconda3\\envs\\gradiowin\\lib\\site-packages (from spacy<3.8.0,>=3.7.2->en-core-web-sm==3.7.1) (2.0.8)\n",
      "Requirement already satisfied: preshed<3.1.0,>=3.0.2 in c:\\users\\phili\\anaconda3\\envs\\gradiowin\\lib\\site-packages (from spacy<3.8.0,>=3.7.2->en-core-web-sm==3.7.1) (3.0.9)\n",
      "Requirement already satisfied: thinc<8.3.0,>=8.2.2 in c:\\users\\phili\\anaconda3\\envs\\gradiowin\\lib\\site-packages (from spacy<3.8.0,>=3.7.2->en-core-web-sm==3.7.1) (8.2.5)\n",
      "Requirement already satisfied: wasabi<1.2.0,>=0.9.1 in c:\\users\\phili\\anaconda3\\envs\\gradiowin\\lib\\site-packages (from spacy<3.8.0,>=3.7.2->en-core-web-sm==3.7.1) (1.1.3)\n",
      "Requirement already satisfied: srsly<3.0.0,>=2.4.3 in c:\\users\\phili\\anaconda3\\envs\\gradiowin\\lib\\site-packages (from spacy<3.8.0,>=3.7.2->en-core-web-sm==3.7.1) (2.4.8)\n",
      "Requirement already satisfied: catalogue<2.1.0,>=2.0.6 in c:\\users\\phili\\anaconda3\\envs\\gradiowin\\lib\\site-packages (from spacy<3.8.0,>=3.7.2->en-core-web-sm==3.7.1) (2.0.10)\n",
      "Requirement already satisfied: weasel<0.5.0,>=0.1.0 in c:\\users\\phili\\anaconda3\\envs\\gradiowin\\lib\\site-packages (from spacy<3.8.0,>=3.7.2->en-core-web-sm==3.7.1) (0.4.1)\n",
      "Requirement already satisfied: typer<1.0.0,>=0.3.0 in c:\\users\\phili\\anaconda3\\envs\\gradiowin\\lib\\site-packages (from spacy<3.8.0,>=3.7.2->en-core-web-sm==3.7.1) (0.12.5)\n",
      "Requirement already satisfied: tqdm<5.0.0,>=4.38.0 in c:\\users\\phili\\anaconda3\\envs\\gradiowin\\lib\\site-packages (from spacy<3.8.0,>=3.7.2->en-core-web-sm==3.7.1) (4.66.5)\n",
      "Requirement already satisfied: requests<3.0.0,>=2.13.0 in c:\\users\\phili\\anaconda3\\envs\\gradiowin\\lib\\site-packages (from spacy<3.8.0,>=3.7.2->en-core-web-sm==3.7.1) (2.32.3)\n",
      "Requirement already satisfied: pydantic!=1.8,!=1.8.1,<3.0.0,>=1.7.4 in c:\\users\\phili\\anaconda3\\envs\\gradiowin\\lib\\site-packages (from spacy<3.8.0,>=3.7.2->en-core-web-sm==3.7.1) (2.8.2)\n",
      "Requirement already satisfied: jinja2 in c:\\users\\phili\\anaconda3\\envs\\gradiowin\\lib\\site-packages (from spacy<3.8.0,>=3.7.2->en-core-web-sm==3.7.1) (3.1.4)\n",
      "Requirement already satisfied: setuptools in c:\\users\\phili\\anaconda3\\envs\\gradiowin\\lib\\site-packages (from spacy<3.8.0,>=3.7.2->en-core-web-sm==3.7.1) (72.2.0)\n",
      "Requirement already satisfied: packaging>=20.0 in c:\\users\\phili\\anaconda3\\envs\\gradiowin\\lib\\site-packages (from spacy<3.8.0,>=3.7.2->en-core-web-sm==3.7.1) (24.1)\n",
      "Requirement already satisfied: langcodes<4.0.0,>=3.2.0 in c:\\users\\phili\\anaconda3\\envs\\gradiowin\\lib\\site-packages (from spacy<3.8.0,>=3.7.2->en-core-web-sm==3.7.1) (3.4.0)\n",
      "Requirement already satisfied: numpy>=1.19.0 in c:\\users\\phili\\anaconda3\\envs\\gradiowin\\lib\\site-packages (from spacy<3.8.0,>=3.7.2->en-core-web-sm==3.7.1) (1.26.4)\n",
      "Requirement already satisfied: language-data>=1.2 in c:\\users\\phili\\anaconda3\\envs\\gradiowin\\lib\\site-packages (from langcodes<4.0.0,>=3.2.0->spacy<3.8.0,>=3.7.2->en-core-web-sm==3.7.1) (1.2.0)\n",
      "Requirement already satisfied: annotated-types>=0.4.0 in c:\\users\\phili\\anaconda3\\envs\\gradiowin\\lib\\site-packages (from pydantic!=1.8,!=1.8.1,<3.0.0,>=1.7.4->spacy<3.8.0,>=3.7.2->en-core-web-sm==3.7.1) (0.7.0)\n",
      "Requirement already satisfied: pydantic-core==2.20.1 in c:\\users\\phili\\anaconda3\\envs\\gradiowin\\lib\\site-packages (from pydantic!=1.8,!=1.8.1,<3.0.0,>=1.7.4->spacy<3.8.0,>=3.7.2->en-core-web-sm==3.7.1) (2.20.1)\n",
      "Requirement already satisfied: typing-extensions>=4.6.1 in c:\\users\\phili\\anaconda3\\envs\\gradiowin\\lib\\site-packages (from pydantic!=1.8,!=1.8.1,<3.0.0,>=1.7.4->spacy<3.8.0,>=3.7.2->en-core-web-sm==3.7.1) (4.12.2)\n",
      "Requirement already satisfied: charset-normalizer<4,>=2 in c:\\users\\phili\\anaconda3\\envs\\gradiowin\\lib\\site-packages (from requests<3.0.0,>=2.13.0->spacy<3.8.0,>=3.7.2->en-core-web-sm==3.7.1) (3.3.2)\n",
      "Requirement already satisfied: idna<4,>=2.5 in c:\\users\\phili\\anaconda3\\envs\\gradiowin\\lib\\site-packages (from requests<3.0.0,>=2.13.0->spacy<3.8.0,>=3.7.2->en-core-web-sm==3.7.1) (3.8)\n",
      "Requirement already satisfied: urllib3<3,>=1.21.1 in c:\\users\\phili\\anaconda3\\envs\\gradiowin\\lib\\site-packages (from requests<3.0.0,>=2.13.0->spacy<3.8.0,>=3.7.2->en-core-web-sm==3.7.1) (2.2.2)\n",
      "Requirement already satisfied: certifi>=2017.4.17 in c:\\users\\phili\\anaconda3\\envs\\gradiowin\\lib\\site-packages (from requests<3.0.0,>=2.13.0->spacy<3.8.0,>=3.7.2->en-core-web-sm==3.7.1) (2024.7.4)\n",
      "Requirement already satisfied: blis<0.8.0,>=0.7.8 in c:\\users\\phili\\anaconda3\\envs\\gradiowin\\lib\\site-packages (from thinc<8.3.0,>=8.2.2->spacy<3.8.0,>=3.7.2->en-core-web-sm==3.7.1) (0.7.11)\n",
      "Requirement already satisfied: confection<1.0.0,>=0.0.1 in c:\\users\\phili\\anaconda3\\envs\\gradiowin\\lib\\site-packages (from thinc<8.3.0,>=8.2.2->spacy<3.8.0,>=3.7.2->en-core-web-sm==3.7.1) (0.1.5)\n",
      "Requirement already satisfied: colorama in c:\\users\\phili\\anaconda3\\envs\\gradiowin\\lib\\site-packages (from tqdm<5.0.0,>=4.38.0->spacy<3.8.0,>=3.7.2->en-core-web-sm==3.7.1) (0.4.6)\n",
      "Requirement already satisfied: click>=8.0.0 in c:\\users\\phili\\anaconda3\\envs\\gradiowin\\lib\\site-packages (from typer<1.0.0,>=0.3.0->spacy<3.8.0,>=3.7.2->en-core-web-sm==3.7.1) (8.1.7)\n",
      "Requirement already satisfied: shellingham>=1.3.0 in c:\\users\\phili\\anaconda3\\envs\\gradiowin\\lib\\site-packages (from typer<1.0.0,>=0.3.0->spacy<3.8.0,>=3.7.2->en-core-web-sm==3.7.1) (1.5.4)\n",
      "Requirement already satisfied: rich>=10.11.0 in c:\\users\\phili\\anaconda3\\envs\\gradiowin\\lib\\site-packages (from typer<1.0.0,>=0.3.0->spacy<3.8.0,>=3.7.2->en-core-web-sm==3.7.1) (13.8.0)\n",
      "Requirement already satisfied: cloudpathlib<1.0.0,>=0.7.0 in c:\\users\\phili\\anaconda3\\envs\\gradiowin\\lib\\site-packages (from weasel<0.5.0,>=0.1.0->spacy<3.8.0,>=3.7.2->en-core-web-sm==3.7.1) (0.19.0)\n",
      "Requirement already satisfied: smart-open<8.0.0,>=5.2.1 in c:\\users\\phili\\anaconda3\\envs\\gradiowin\\lib\\site-packages (from weasel<0.5.0,>=0.1.0->spacy<3.8.0,>=3.7.2->en-core-web-sm==3.7.1) (7.0.4)\n",
      "Requirement already satisfied: MarkupSafe>=2.0 in c:\\users\\phili\\anaconda3\\envs\\gradiowin\\lib\\site-packages (from jinja2->spacy<3.8.0,>=3.7.2->en-core-web-sm==3.7.1) (2.1.5)\n",
      "Requirement already satisfied: marisa-trie>=0.7.7 in c:\\users\\phili\\anaconda3\\envs\\gradiowin\\lib\\site-packages (from language-data>=1.2->langcodes<4.0.0,>=3.2.0->spacy<3.8.0,>=3.7.2->en-core-web-sm==3.7.1) (1.2.0)\n",
      "Requirement already satisfied: markdown-it-py>=2.2.0 in c:\\users\\phili\\anaconda3\\envs\\gradiowin\\lib\\site-packages (from rich>=10.11.0->typer<1.0.0,>=0.3.0->spacy<3.8.0,>=3.7.2->en-core-web-sm==3.7.1) (3.0.0)\n",
      "Requirement already satisfied: pygments<3.0.0,>=2.13.0 in c:\\users\\phili\\anaconda3\\envs\\gradiowin\\lib\\site-packages (from rich>=10.11.0->typer<1.0.0,>=0.3.0->spacy<3.8.0,>=3.7.2->en-core-web-sm==3.7.1) (2.18.0)\n",
      "Requirement already satisfied: wrapt in c:\\users\\phili\\anaconda3\\envs\\gradiowin\\lib\\site-packages (from smart-open<8.0.0,>=5.2.1->weasel<0.5.0,>=0.1.0->spacy<3.8.0,>=3.7.2->en-core-web-sm==3.7.1) (1.16.0)\n",
      "Requirement already satisfied: mdurl~=0.1 in c:\\users\\phili\\anaconda3\\envs\\gradiowin\\lib\\site-packages (from markdown-it-py>=2.2.0->rich>=10.11.0->typer<1.0.0,>=0.3.0->spacy<3.8.0,>=3.7.2->en-core-web-sm==3.7.1) (0.1.2)\n",
      "Installing collected packages: en-core-web-sm\n",
      "Successfully installed en-core-web-sm-3.7.1\n",
      "\u001b[38;5;2m✔ Download and installation successful\u001b[0m\n",
      "You can now load the package via spacy.load('en_core_web_sm')\n"
     ]
    }
   ],
   "source": [
    "!python -m spacy download en_core_web_sm\n"
   ]
  },
  {
   "cell_type": "code",
   "execution_count": null,
   "metadata": {},
   "outputs": [],
   "source": [
    "#load the model\n"
   ]
  },
  {
   "cell_type": "code",
   "execution_count": 30,
   "metadata": {},
   "outputs": [],
   "source": [
    "def load_model():\n",
    "    nlp = spacy.load('en_core_web_sm')\n",
    "    return nlp\n",
    "\n"
   ]
  },
  {
   "cell_type": "code",
   "execution_count": 31,
   "metadata": {},
   "outputs": [
    {
     "name": "stdout",
     "output_type": "stream",
     "text": [
      "3.7.6\n",
      "[]\n"
     ]
    }
   ],
   "source": [
    "import spacy\n",
    "print(spacy.__version__)\n",
    "print(spacy.util.get_installed_models())"
   ]
  },
  {
   "cell_type": "code",
   "execution_count": 32,
   "metadata": {},
   "outputs": [],
   "source": [
    "nlp_model = load_model()\n"
   ]
  },
  {
   "cell_type": "code",
   "execution_count": null,
   "metadata": {},
   "outputs": [],
   "source": [
    "#load dataset"
   ]
  },
  {
   "cell_type": "code",
   "execution_count": 34,
   "metadata": {},
   "outputs": [],
   "source": [
    "import os\n",
    "import sys\n",
    "import pathlib\n",
    "\n",
    "folder_path=pathlib.Path().parent.resolve()\n",
    "sys.path.append(os.path.join(folder_path, '../'))\n",
    "from utils import load_subtitles_dataset\n",
    "\n",
    "\n"
   ]
  },
  {
   "cell_type": "code",
   "execution_count": 36,
   "metadata": {},
   "outputs": [],
   "source": [
    "dataset_path = \"../data/subtitles/\"\n",
    "df = load_subtitles_dataset(dataset_path)\n"
   ]
  },
  {
   "cell_type": "code",
   "execution_count": 37,
   "metadata": {},
   "outputs": [
    {
     "data": {
      "text/html": [
       "<div>\n",
       "<style scoped>\n",
       "    .dataframe tbody tr th:only-of-type {\n",
       "        vertical-align: middle;\n",
       "    }\n",
       "\n",
       "    .dataframe tbody tr th {\n",
       "        vertical-align: top;\n",
       "    }\n",
       "\n",
       "    .dataframe thead th {\n",
       "        text-align: right;\n",
       "    }\n",
       "</style>\n",
       "<table border=\"1\" class=\"dataframe\">\n",
       "  <thead>\n",
       "    <tr style=\"text-align: right;\">\n",
       "      <th></th>\n",
       "      <th>episode</th>\n",
       "      <th>script</th>\n",
       "    </tr>\n",
       "  </thead>\n",
       "  <tbody>\n",
       "    <tr>\n",
       "      <th>0</th>\n",
       "      <td>137</td>\n",
       "      <td>Hey boys, listen up!\\n Humans aren’t such a bi...</td>\n",
       "    </tr>\n",
       "    <tr>\n",
       "      <th>1</th>\n",
       "      <td>138</td>\n",
       "      <td>Hey boys, listen up!\\n Humans aren’t such a bi...</td>\n",
       "    </tr>\n",
       "    <tr>\n",
       "      <th>2</th>\n",
       "      <td>203</td>\n",
       "      <td>Fly into the wavy and twisted sky, into your h...</td>\n",
       "    </tr>\n",
       "    <tr>\n",
       "      <th>3</th>\n",
       "      <td>156</td>\n",
       "      <td>I want to try and gather the unrestrained wind...</td>\n",
       "    </tr>\n",
       "    <tr>\n",
       "      <th>4</th>\n",
       "      <td>211</td>\n",
       "      <td>Fly into the wavy and twisted sky, into your h...</td>\n",
       "    </tr>\n",
       "  </tbody>\n",
       "</table>\n",
       "</div>"
      ],
      "text/plain": [
       "   episode                                             script\n",
       "0      137  Hey boys, listen up!\\n Humans aren’t such a bi...\n",
       "1      138  Hey boys, listen up!\\n Humans aren’t such a bi...\n",
       "2      203  Fly into the wavy and twisted sky, into your h...\n",
       "3      156  I want to try and gather the unrestrained wind...\n",
       "4      211  Fly into the wavy and twisted sky, into your h..."
      ]
     },
     "execution_count": 37,
     "metadata": {},
     "output_type": "execute_result"
    }
   ],
   "source": [
    "df.head()\n"
   ]
  },
  {
   "cell_type": "code",
   "execution_count": 38,
   "metadata": {},
   "outputs": [
    {
     "data": {
      "text/plain": [
       "\"Hey boys, listen up!\\n Humans aren’t such a big deal\\n Who needs tomorrow anyway,\\n so don’t hide your fists\\n You’re not old enough\\n to sell your dreams away to uncertainty\\n Hey boys, you’re the only ones\\n who can pull the trigger in your heart\\n All the kids said\\n We’re living in this senseless, ridiculous,\\n awesome world right at this moment,\\n All the kids said\\n Don’t forget every truth or lie\\n All the kids said\\n We’re way too young to die\\n In this empty town lined with empty faces\\n All the kids took off\\n into this windless night\\n Because they want to change something\\n A Town of Outlaws!                           The Shadow of the Fuma Clan\\n It seems that the most bustling traveler’s town in the Land of Rice Paddies\\n is at the bottom of these mountains.\\n You’re going to weird places again\\n in the name of investigation, aren’t you, Pervy Sage?!\\n Please stop it already!\\n We had a rough time shaking off the bodyguards from the rip-off bar.\\n I understand your point,\\n but there’s no other way to find Village Hidden in the Sound.\\n Gee, I don’t like it either, but…\\n This is truly a problem…\\n But we have to do things we don’t like… Right?!\\n Okay, let’s go!\\n Naruto, Sakura, don’t drag your feet!\\n Investigation, investigation! What a pain.\\n He looks like he’s having fun.\\n He hasn’t learned at all.\\n Fuma Alley\\n – Oww! \\t\\t\\t\\t\\t– That's my line!\\n This is even rougher than the traveler’s town before.\\n Let’s just take a pass on this place and find Village Hidden in the Sound.\\n Say…\\n I don’t have any more money.\\n I don’t have any more money either!\\n Here!\\n You guys go get some food with that\\n and wait in the temple on the outskirts of town.\\n Information accumulates in this kind of place,\\n but it’s not good for you guys to see.\\n I’ll sacrifice myself and check it out.\\n He’s a surprisingly nice person…\\n Sakura… You’re still so naïve.\\n Where should I investigate first?\\n Gee, how rough… lnvestigations are painful.\\n Let’s leave the Pervy Sage be and check somewhere else.\\n What’s the matter, Sakura?\\n I don’t think… Sasuke’s in this land anymore.\\n What’s the matter?!\\n We won’t know that if we don’t investigate!\\n Yeah, but…\\n Our opponent is Orochimaru.\\n Of course, things might not go easily.\\n But you know…\\n But I’m sure we’ll find him!\\n Right.\\n Naruto!\\n You’re…the one from before?!\\n This kid’s…hurt…\\n You…?\\n Naruto!\\n Substitution, huh…?\\n We let them get away.\\n Don’t worry…\\n My cute children are making a silver trail for us.\\n They can’t escape from us now…\\n It seems those two are petty Ninja from somewhere.\\n But getting involved with us has sealed their fate.\\n It’s unfortunate for them…\\n The objective of those who sneak into this land is Lord Orochimaru, anyway.\\n Sure enough, the skin of a young woman is supple.\\n You’re mean!\\n Eh? Oh, sorry sorry.\\n By the way, have you guys heard rumors about the Sound Village?\\n The Sound Village?\\n I’ve never heard the name of such a village.\\n I’ll tip you handsomely if you tell me.\\n But I really don’t know.\\n I’ve never heard of it.\\n I’ve heard of it!\\n One of my regulars knows a lot about it.\\n Wanna come?\\n Yeah.\\n His home is in the back of this alley.\\n Trapped like a rat.\\n What, it’s a seedy old man! Hey! He’s got money, right?\\n Yeah. I saw it with my own eyes.\\n You punks! Stop the idle chatter and take care of him now!\\n Right, boss!\\n Getting infatuated with girls has sealed your fate! Rest in peace!\\n Ninja Art: \\t\\t\\t\\t\\tNeedle Jizo.\\n You punk…\\n I’m in a hurry…\\n I think it’d be best if you answer compliantly\\n whether or not you know about Hidden Sound Village.\\n You’re a fool if I look like a compliant person to you!\\n You a Ninja?\\n If so?\\n Interesting!\\n We’ve reduced ourselves to being thieves,\\n but we’re a somewhat famous Shinobi clan around here!\\n Instead of taking your life, I could hire you if you want!\\n A Ninja, huh…\\n Then I don’t need to go easy on you.\\n Don’t be acting like a big shot, old man!\\n Shut up, you squirt!\\n A Ninja refers to one who endures.\\n Those who couldn’t endure their hunger pangs\\n and resort to use their diligently studied Jutsu for stealing\\n are not called Ninja!\\n I won’t let that pass!\\n Thinking we’re fellow Shinobi, we took pity on you.\\n Acting all conceited!\\n Regret after being sliced in two!\\n Fuma Ninja Blade Zanbato!\\n Rasengan!\\n You punk! How dare you do that to the boss!\\n We won’t let you do any more than that!\\n Oh?\\n Hold it, you guys!\\n I didn’t know you were so good!\\n That Jutsu just now…\\n I sense you must be a person of stature!\\n If it’s all right, may I ask you your name?\\n If you don’t know, then I shall tell you!\\n Women become infatuated with his sex appeal.\\n He’s strong against Shinobi, but has a soft spot for women!\\n He exists in Village Hidden in the Leaves…\\n And made his name known…\\n Master Jiraiya, that’s me!\\n What?!\\n You guys bow your heads and beg for your lives!\\n We’ll all be killed!\\n – Yes, sir! \\t\\t\\t\\t\\t– Yes, sir!\\n Although we didn’t know, being so rude to Master Jiraiya,\\n reputed as one of the Legendary Sannin of the Leaf Village!\\n We beg for your forgiveness!\\n So my name’s known in this land, too…\\n Well, it’s okay.\\n So is it true that you know about Village Hidden in the Sound?\\n Yes! There were many Ninja clans in the Land of Rice Paddies,\\n including us Fuma.\\n We divided up the roles amongst ourselves\\n and the Ninja of this land were doing well in their own way.\\n Until that man appeared…\\n Who was that man?\\n It’s regrettable to even speak of that name…\\n It was Orochimaru!\\n It’s okay! Rest easy!\\n If germs get into the wound and you get tetanus,\\n you won’t be saved.\\n But fortunately, I have medicine, so let me treat you.\\n They’re not coming.\\n Just show us your wound.\\n Well, huh?\\n Naruto, go wait outside till my treatment is done. 164.01\\t01:37:53:04\\t01:37:53:24\\tHuh?\\n Why do I have to be the only one chased out?!\\n Jeez!\\n I guess it can’t be helped.\\n Don’t peek!\\n I know.\\n Okay, show me your wound.\\n How mean…\\n To hit me out of the blue…?\\n Whoa, interesting.\\n Naruto! You can come in!\\n What?!\\n A cute girl?\\n Sakura! This girl! Who the heck is this girl?!\\n How dense. It’s the Ninja from a moment ago.\\n Come to think of it…\\n Why…?\\n I am Sasame Fuma.\\n Sasame… Why were you being chased by those guys?\\n If you like, try talking about it.\\n We might be able to help.\\n They were the Sound Ninja protecting Orochimaru’s residence.\\n What?!\\n I’m sorry for mistaking you guys as one of them the other day.\\n That doesn’t matter!\\n We’re also looking for Orochimaru!\\n Would you please give us the details?\\n Okay…\\n It all started with the Feudal Lord of the Land of Rice Paddies\\n launching an attack on a neighboring land\\n in an attempt to expand the territory.\\n The Land of Rice Paddies is a small land…\\n And there aren’t that many Shinobi.\\n It was a foolhardy attack. Losing was expected…\\n And the Shinobi clans of this land\\n who participated in the losing battle went to ruin…\\n We the Fuma Clan as well.\\n I hear that among the surviving Shinobi,\\n there are those who have left the land\\n and those who have stooped to become thieves.\\n Even so, we’ve lived believing in a restoration of the clan\\n and continued to live hiding in the shadows.\\n At that time, an emissary of Village Hidden in the Sound appeared before us\\n attempting to create the first full-scale Shinobi village in the Land of Rice Paddies.\\n The emissary of the Sound Village said…\\n My master Orochimaru is gathering all sorts of Jutsu!\\n He has taken an interest in your Jutsu well.\\n Depending on your work,\\n you might be given the chance to serve the Feudal Lord!\\n My cousin Arashi…\\n was an up-and-coming star for the restoration of the clan…\\n Arashi as a representative of the clan\\n headed for Village Hidden in the Sound together with the emissary.\\n But…\\n And then…?\\n We waited for a notice from Arashi, but…\\n There is no word from him, huh?\\n Damn it! He was tricked by that Orochimaru!\\n Naruto!\\n Oh…!\\n Uh, even so, your cousin Arashi might be safe…\\n We don’t know, right? And so…and so…\\n Idiot…!\\n I’m going to save Arashi!\\n I have a small body and my power is weak.\\n So no matter what I did…\\n I did nothing but become a hindrance even in Ninjutsu training…\\n But Arashi always saved me!\\n Everyone in the village has already given up, but…\\n So I’ll find Village Hidden in the Sound alone…\\n And so you were chased by the Sound Ninja, right?\\n This time, it’s my turn to save Arashi!\\n Sasame!\\n I…I want to be of help to Arashi!\\n Naruto!\\n Yeah…I know!\\n We have to go to Village of the Sound to bring back Sasuke anyway, so!\\n Now instead of one,\\n it’s just that there are two guys for us to bring back.\\n I’ll save your cousin, Sasame!\\n Right!\\n Eew! A spider…\\n What’s this?!\\n Naruto!\\n Wha--! What’s this?!\\n Ninja Art: Wind Spiders!\\n My cute children made a path for me out of silver thread\\n and told me where you guys were going.\\n All three of you together will descend into hell while bearing the secret!\\n Naruto! It’s the Ventriloquism Jutsu!\\n He’s scattering his voice to multiple directions\\n and covering up location and number!\\n I get it! I leave this girl to you, Sakura!\\n Multi-Shadow Clone Jutsu!\\n Okay! Bring it on from anywhere!\\n It’s a large number, but it’s just Clone Jutsu.\\n No. Look closely, Jigumo!\\n The threads are getting tangled.\\n All of the clones are tangible?! Shadow clones?!\\n If so… Kagero!\\n Understood…\\n Come out!\\n Borne to be born, lived to live, one sunrise and one sunset…\\n The life of a mayfly lasts but one day.\\n Thinking that such a fleeting life is pitiable is, in fact, pitiable…\\n Know that I’m at my best\\n when living in the dark and deep in the ground!\\n Ninja Art:\\n Ant Lion Jutsu!\\n When I recalled the parts one by one,\\n I felt as though I had understood everything\\n Faded words which I kept so close to me\\n Speechless nights, a hint of warmth,\\n and this distant yearning for you\\n I live, simply repeating this cycle\\n Held in my two hands A droplet of time\\n Softly clutching forgotten memories Lost words\\n I’ll keep these thoughts…\\n Darn it! What a pesky bunch!\\n But I won’t be done in so easily!\\n I have to kick that Orochimaru jerk’s butt\\n and bring back Sasuke and Sasame’s cousin!\\n It doesn’t matter if you guys are powerhouses!\\n I’ll kick all of your butts, so bring it on from anywhere!\\n Next episode, “Pure Betrayal, and a Fleeting Plea!”\\n\""
      ]
     },
     "execution_count": 38,
     "metadata": {},
     "output_type": "execute_result"
    }
   ],
   "source": [
    "sample_script = df.iloc[0]['script']\n",
    "sample_script"
   ]
  },
  {
   "cell_type": "code",
   "execution_count": 54,
   "metadata": {},
   "outputs": [],
   "source": [
    "sentences = sent_tokenize(sample_script)\n"
   ]
  },
  {
   "cell_type": "code",
   "execution_count": 55,
   "metadata": {},
   "outputs": [],
   "source": [
    "sentences = sentences[30:60]\n"
   ]
  },
  {
   "cell_type": "code",
   "execution_count": 56,
   "metadata": {},
   "outputs": [],
   "source": [
    "sentence = \".\".join(sentences)\n"
   ]
  },
  {
   "cell_type": "code",
   "execution_count": 57,
   "metadata": {},
   "outputs": [
    {
     "data": {
      "text/plain": [
       "'What’s the matter?!.We won’t know that if we don’t investigate!.Yeah, but…\\n Our opponent is Orochimaru..Of course, things might not go easily..But you know…\\n But I’m sure we’ll find him!.Right..Naruto!.You’re…the one from before?!.This kid’s…hurt…\\n You…?.Naruto!.Substitution, huh…?.We let them get away..Don’t worry…\\n My cute children are making a silver trail for us..They can’t escape from us now…\\n It seems those two are petty Ninja from somewhere..But getting involved with us has sealed their fate..It’s unfortunate for them…\\n The objective of those who sneak into this land is Lord Orochimaru, anyway..Sure enough, the skin of a young woman is supple..You’re mean!.Eh?.Oh, sorry sorry..By the way, have you guys heard rumors about the Sound Village?.The Sound Village?.I’ve never heard the name of such a village..I’ll tip you handsomely if you tell me..But I really don’t know..I’ve never heard of it..I’ve heard of it!.One of my regulars knows a lot about it..Wanna come?.Yeah.'"
      ]
     },
     "execution_count": 57,
     "metadata": {},
     "output_type": "execute_result"
    }
   ],
   "source": [
    "sentence\n"
   ]
  },
  {
   "cell_type": "code",
   "execution_count": null,
   "metadata": {},
   "outputs": [],
   "source": [
    "#run model"
   ]
  },
  {
   "cell_type": "code",
   "execution_count": 58,
   "metadata": {},
   "outputs": [],
   "source": [
    "doc = nlp_model(sentence)\n"
   ]
  },
  {
   "cell_type": "code",
   "execution_count": 59,
   "metadata": {},
   "outputs": [
    {
     "data": {
      "text/plain": [
       "(Orochimaru,\n",
       " kid’s,\n",
       " two,\n",
       " Orochimaru,\n",
       " You’re mean!.Eh?.Oh,\n",
       " the Sound Village?.The Sound,\n",
       " Wanna)"
      ]
     },
     "execution_count": 59,
     "metadata": {},
     "output_type": "execute_result"
    }
   ],
   "source": [
    "doc.ents\n"
   ]
  },
  {
   "cell_type": "code",
   "execution_count": 60,
   "metadata": {},
   "outputs": [
    {
     "name": "stdout",
     "output_type": "stream",
     "text": [
      "Orochimaru ORG\n",
      "kid’s PERSON\n",
      "two CARDINAL\n",
      "Orochimaru ORG\n",
      "You’re mean!.Eh?.Oh PERSON\n",
      "the Sound Village?.The Sound FAC\n",
      "Wanna PERSON\n"
     ]
    }
   ],
   "source": [
    "for entity in doc.ents:\n",
    "    print(entity,entity.label_)\n"
   ]
  },
  {
   "cell_type": "code",
   "execution_count": 61,
   "metadata": {},
   "outputs": [],
   "source": [
    "def get_ners_inference(script):\n",
    "    script_sentences = sent_tokenize(script)\n",
    "    ner_output = []\n",
    "    \n",
    "    for sentence in script_sentences:\n",
    "        doc = nlp_model(sentence)\n",
    "        ners = set()\n",
    "        for entity in doc.ents:\n",
    "            if entity.label_ == 'PERSON':\n",
    "                full_name = entity.text\n",
    "                first_name = entity.text.split(\" \")[0]\n",
    "                first_name = first_name.strip()\n",
    "                ners.add(first_name)\n",
    "        ner_output.append(ners)\n",
    "        \n",
    "    return ner_output\n",
    "\n",
    "#extract characters\n"
   ]
  },
  {
   "cell_type": "code",
   "execution_count": 63,
   "metadata": {},
   "outputs": [
    {
     "data": {
      "text/html": [
       "<div>\n",
       "<style scoped>\n",
       "    .dataframe tbody tr th:only-of-type {\n",
       "        vertical-align: middle;\n",
       "    }\n",
       "\n",
       "    .dataframe tbody tr th {\n",
       "        vertical-align: top;\n",
       "    }\n",
       "\n",
       "    .dataframe thead th {\n",
       "        text-align: right;\n",
       "    }\n",
       "</style>\n",
       "<table border=\"1\" class=\"dataframe\">\n",
       "  <thead>\n",
       "    <tr style=\"text-align: right;\">\n",
       "      <th></th>\n",
       "      <th>episode</th>\n",
       "      <th>script</th>\n",
       "    </tr>\n",
       "  </thead>\n",
       "  <tbody>\n",
       "    <tr>\n",
       "      <th>0</th>\n",
       "      <td>137</td>\n",
       "      <td>Hey boys, listen up!\\n Humans aren’t such a bi...</td>\n",
       "    </tr>\n",
       "    <tr>\n",
       "      <th>1</th>\n",
       "      <td>138</td>\n",
       "      <td>Hey boys, listen up!\\n Humans aren’t such a bi...</td>\n",
       "    </tr>\n",
       "    <tr>\n",
       "      <th>2</th>\n",
       "      <td>203</td>\n",
       "      <td>Fly into the wavy and twisted sky, into your h...</td>\n",
       "    </tr>\n",
       "    <tr>\n",
       "      <th>3</th>\n",
       "      <td>156</td>\n",
       "      <td>I want to try and gather the unrestrained wind...</td>\n",
       "    </tr>\n",
       "    <tr>\n",
       "      <th>4</th>\n",
       "      <td>211</td>\n",
       "      <td>Fly into the wavy and twisted sky, into your h...</td>\n",
       "    </tr>\n",
       "    <tr>\n",
       "      <th>5</th>\n",
       "      <td>130</td>\n",
       "      <td>Hey boys, listen up!\\n Humans aren’t such a bi...</td>\n",
       "    </tr>\n",
       "    <tr>\n",
       "      <th>6</th>\n",
       "      <td>64</td>\n",
       "      <td>Yeah, turn your sadness into kindness, your un...</td>\n",
       "    </tr>\n",
       "    <tr>\n",
       "      <th>7</th>\n",
       "      <td>37</td>\n",
       "      <td>Press down hard on the gas\\n That’s right, the...</td>\n",
       "    </tr>\n",
       "    <tr>\n",
       "      <th>8</th>\n",
       "      <td>83</td>\n",
       "      <td>We are Fighting Dreamers aiming high\\n Fightin...</td>\n",
       "    </tr>\n",
       "    <tr>\n",
       "      <th>9</th>\n",
       "      <td>15</td>\n",
       "      <td>C'mon!\\n Running like a fugitive,\\n Being chas...</td>\n",
       "    </tr>\n",
       "  </tbody>\n",
       "</table>\n",
       "</div>"
      ],
      "text/plain": [
       "   episode                                             script\n",
       "0      137  Hey boys, listen up!\\n Humans aren’t such a bi...\n",
       "1      138  Hey boys, listen up!\\n Humans aren’t such a bi...\n",
       "2      203  Fly into the wavy and twisted sky, into your h...\n",
       "3      156  I want to try and gather the unrestrained wind...\n",
       "4      211  Fly into the wavy and twisted sky, into your h...\n",
       "5      130  Hey boys, listen up!\\n Humans aren’t such a bi...\n",
       "6       64  Yeah, turn your sadness into kindness, your un...\n",
       "7       37  Press down hard on the gas\\n That’s right, the...\n",
       "8       83  We are Fighting Dreamers aiming high\\n Fightin...\n",
       "9       15  C'mon!\\n Running like a fugitive,\\n Being chas..."
      ]
     },
     "execution_count": 63,
     "metadata": {},
     "output_type": "execute_result"
    }
   ],
   "source": [
    "df = df.head(10)\n",
    "df"
   ]
  },
  {
   "cell_type": "code",
   "execution_count": 64,
   "metadata": {},
   "outputs": [],
   "source": [
    "df['ners'] = df['script'].apply(get_ners_inference)\n"
   ]
  },
  {
   "cell_type": "code",
   "execution_count": 65,
   "metadata": {},
   "outputs": [
    {
     "data": {
      "text/html": [
       "<div>\n",
       "<style scoped>\n",
       "    .dataframe tbody tr th:only-of-type {\n",
       "        vertical-align: middle;\n",
       "    }\n",
       "\n",
       "    .dataframe tbody tr th {\n",
       "        vertical-align: top;\n",
       "    }\n",
       "\n",
       "    .dataframe thead th {\n",
       "        text-align: right;\n",
       "    }\n",
       "</style>\n",
       "<table border=\"1\" class=\"dataframe\">\n",
       "  <thead>\n",
       "    <tr style=\"text-align: right;\">\n",
       "      <th></th>\n",
       "      <th>episode</th>\n",
       "      <th>script</th>\n",
       "      <th>ners</th>\n",
       "    </tr>\n",
       "  </thead>\n",
       "  <tbody>\n",
       "    <tr>\n",
       "      <th>0</th>\n",
       "      <td>137</td>\n",
       "      <td>Hey boys, listen up!\\n Humans aren’t such a bi...</td>\n",
       "      <td>[{}, {}, {}, {}, {}, {}, {}, {}, {}, {}, {}, {...</td>\n",
       "    </tr>\n",
       "    <tr>\n",
       "      <th>1</th>\n",
       "      <td>138</td>\n",
       "      <td>Hey boys, listen up!\\n Humans aren’t such a bi...</td>\n",
       "      <td>[{}, {}, {}, {}, {}, {}, {}, {}, {}, {}, {}, {...</td>\n",
       "    </tr>\n",
       "    <tr>\n",
       "      <th>2</th>\n",
       "      <td>203</td>\n",
       "      <td>Fly into the wavy and twisted sky, into your h...</td>\n",
       "      <td>[{}, {}, {}, {}, {}, {}, {}, {}, {}, {}, {}, {...</td>\n",
       "    </tr>\n",
       "    <tr>\n",
       "      <th>3</th>\n",
       "      <td>156</td>\n",
       "      <td>I want to try and gather the unrestrained wind...</td>\n",
       "      <td>[{}, {}, {}, {}, {}, {}, {}, {}, {}, {}, {}, {...</td>\n",
       "    </tr>\n",
       "    <tr>\n",
       "      <th>4</th>\n",
       "      <td>211</td>\n",
       "      <td>Fly into the wavy and twisted sky, into your h...</td>\n",
       "      <td>[{}, {}, {}, {}, {}, {}, {}, {}, {}, {}, {}, {...</td>\n",
       "    </tr>\n",
       "    <tr>\n",
       "      <th>5</th>\n",
       "      <td>130</td>\n",
       "      <td>Hey boys, listen up!\\n Humans aren’t such a bi...</td>\n",
       "      <td>[{}, {}, {}, {}, {}, {Sharingan}, {}, {}, {}, ...</td>\n",
       "    </tr>\n",
       "    <tr>\n",
       "      <th>6</th>\n",
       "      <td>64</td>\n",
       "      <td>Yeah, turn your sadness into kindness, your un...</td>\n",
       "      <td>[{}, {}, {}, {}, {}, {Hurry}, {}, {}, {}, {}, ...</td>\n",
       "    </tr>\n",
       "    <tr>\n",
       "      <th>7</th>\n",
       "      <td>37</td>\n",
       "      <td>Press down hard on the gas\\n That’s right, the...</td>\n",
       "      <td>[{}, {}, {}, {}, {}, {}, {}, {}, {}, {}, {}, {...</td>\n",
       "    </tr>\n",
       "    <tr>\n",
       "      <th>8</th>\n",
       "      <td>83</td>\n",
       "      <td>We are Fighting Dreamers aiming high\\n Fightin...</td>\n",
       "      <td>[{}, {}, {}, {}, {}, {}, {}, {}, {}, {}, {}, {...</td>\n",
       "    </tr>\n",
       "    <tr>\n",
       "      <th>9</th>\n",
       "      <td>15</td>\n",
       "      <td>C'mon!\\n Running like a fugitive,\\n Being chas...</td>\n",
       "      <td>[{}, {}, {}, {}, {}, {}, {}, {}, {}, {}, {}, {...</td>\n",
       "    </tr>\n",
       "  </tbody>\n",
       "</table>\n",
       "</div>"
      ],
      "text/plain": [
       "   episode                                             script  \\\n",
       "0      137  Hey boys, listen up!\\n Humans aren’t such a bi...   \n",
       "1      138  Hey boys, listen up!\\n Humans aren’t such a bi...   \n",
       "2      203  Fly into the wavy and twisted sky, into your h...   \n",
       "3      156  I want to try and gather the unrestrained wind...   \n",
       "4      211  Fly into the wavy and twisted sky, into your h...   \n",
       "5      130  Hey boys, listen up!\\n Humans aren’t such a bi...   \n",
       "6       64  Yeah, turn your sadness into kindness, your un...   \n",
       "7       37  Press down hard on the gas\\n That’s right, the...   \n",
       "8       83  We are Fighting Dreamers aiming high\\n Fightin...   \n",
       "9       15  C'mon!\\n Running like a fugitive,\\n Being chas...   \n",
       "\n",
       "                                                ners  \n",
       "0  [{}, {}, {}, {}, {}, {}, {}, {}, {}, {}, {}, {...  \n",
       "1  [{}, {}, {}, {}, {}, {}, {}, {}, {}, {}, {}, {...  \n",
       "2  [{}, {}, {}, {}, {}, {}, {}, {}, {}, {}, {}, {...  \n",
       "3  [{}, {}, {}, {}, {}, {}, {}, {}, {}, {}, {}, {...  \n",
       "4  [{}, {}, {}, {}, {}, {}, {}, {}, {}, {}, {}, {...  \n",
       "5  [{}, {}, {}, {}, {}, {Sharingan}, {}, {}, {}, ...  \n",
       "6  [{}, {}, {}, {}, {}, {Hurry}, {}, {}, {}, {}, ...  \n",
       "7  [{}, {}, {}, {}, {}, {}, {}, {}, {}, {}, {}, {...  \n",
       "8  [{}, {}, {}, {}, {}, {}, {}, {}, {}, {}, {}, {...  \n",
       "9  [{}, {}, {}, {}, {}, {}, {}, {}, {}, {}, {}, {...  "
      ]
     },
     "execution_count": 65,
     "metadata": {},
     "output_type": "execute_result"
    }
   ],
   "source": [
    "df"
   ]
  },
  {
   "cell_type": "code",
   "execution_count": 2,
   "metadata": {},
   "outputs": [
    {
     "name": "stdout",
     "output_type": "stream",
     "text": [
      "Collecting pyvis==0.3.2\n",
      "  Downloading pyvis-0.3.2-py3-none-any.whl.metadata (1.7 kB)\n",
      "Requirement already satisfied: ipython>=5.3.0 in c:\\users\\phili\\anaconda3\\envs\\gradiowin\\lib\\site-packages (from pyvis==0.3.2) (8.26.0)\n",
      "Requirement already satisfied: jinja2>=2.9.6 in c:\\users\\phili\\anaconda3\\envs\\gradiowin\\lib\\site-packages (from pyvis==0.3.2) (3.1.4)\n",
      "Collecting jsonpickle>=1.4.1 (from pyvis==0.3.2)\n",
      "  Downloading jsonpickle-3.3.0-py3-none-any.whl.metadata (8.3 kB)\n",
      "Requirement already satisfied: networkx>=1.11 in c:\\users\\phili\\anaconda3\\envs\\gradiowin\\lib\\site-packages (from pyvis==0.3.2) (3.3)\n",
      "Requirement already satisfied: decorator in c:\\users\\phili\\anaconda3\\envs\\gradiowin\\lib\\site-packages (from ipython>=5.3.0->pyvis==0.3.2) (5.1.1)\n",
      "Requirement already satisfied: jedi>=0.16 in c:\\users\\phili\\anaconda3\\envs\\gradiowin\\lib\\site-packages (from ipython>=5.3.0->pyvis==0.3.2) (0.19.1)\n",
      "Requirement already satisfied: matplotlib-inline in c:\\users\\phili\\anaconda3\\envs\\gradiowin\\lib\\site-packages (from ipython>=5.3.0->pyvis==0.3.2) (0.1.7)\n",
      "Requirement already satisfied: prompt-toolkit<3.1.0,>=3.0.41 in c:\\users\\phili\\anaconda3\\envs\\gradiowin\\lib\\site-packages (from ipython>=5.3.0->pyvis==0.3.2) (3.0.47)\n",
      "Requirement already satisfied: pygments>=2.4.0 in c:\\users\\phili\\anaconda3\\envs\\gradiowin\\lib\\site-packages (from ipython>=5.3.0->pyvis==0.3.2) (2.18.0)\n",
      "Requirement already satisfied: stack-data in c:\\users\\phili\\anaconda3\\envs\\gradiowin\\lib\\site-packages (from ipython>=5.3.0->pyvis==0.3.2) (0.6.2)\n",
      "Requirement already satisfied: traitlets>=5.13.0 in c:\\users\\phili\\anaconda3\\envs\\gradiowin\\lib\\site-packages (from ipython>=5.3.0->pyvis==0.3.2) (5.14.3)\n",
      "Requirement already satisfied: colorama in c:\\users\\phili\\anaconda3\\envs\\gradiowin\\lib\\site-packages (from ipython>=5.3.0->pyvis==0.3.2) (0.4.6)\n",
      "Requirement already satisfied: MarkupSafe>=2.0 in c:\\users\\phili\\anaconda3\\envs\\gradiowin\\lib\\site-packages (from jinja2>=2.9.6->pyvis==0.3.2) (2.1.5)\n",
      "Requirement already satisfied: parso<0.9.0,>=0.8.3 in c:\\users\\phili\\anaconda3\\envs\\gradiowin\\lib\\site-packages (from jedi>=0.16->ipython>=5.3.0->pyvis==0.3.2) (0.8.4)\n",
      "Requirement already satisfied: wcwidth in c:\\users\\phili\\anaconda3\\envs\\gradiowin\\lib\\site-packages (from prompt-toolkit<3.1.0,>=3.0.41->ipython>=5.3.0->pyvis==0.3.2) (0.2.13)\n",
      "Requirement already satisfied: executing>=1.2.0 in c:\\users\\phili\\anaconda3\\envs\\gradiowin\\lib\\site-packages (from stack-data->ipython>=5.3.0->pyvis==0.3.2) (2.0.1)\n",
      "Requirement already satisfied: asttokens>=2.1.0 in c:\\users\\phili\\anaconda3\\envs\\gradiowin\\lib\\site-packages (from stack-data->ipython>=5.3.0->pyvis==0.3.2) (2.4.1)\n",
      "Requirement already satisfied: pure-eval in c:\\users\\phili\\anaconda3\\envs\\gradiowin\\lib\\site-packages (from stack-data->ipython>=5.3.0->pyvis==0.3.2) (0.2.3)\n",
      "Requirement already satisfied: six>=1.12.0 in c:\\users\\phili\\anaconda3\\envs\\gradiowin\\lib\\site-packages (from asttokens>=2.1.0->stack-data->ipython>=5.3.0->pyvis==0.3.2) (1.16.0)\n",
      "Downloading pyvis-0.3.2-py3-none-any.whl (756 kB)\n",
      "   ---------------------------------------- 0.0/756.0 kB ? eta -:--:--\n",
      "   --------------------------------------- 756.0/756.0 kB 10.5 MB/s eta 0:00:00\n",
      "Downloading jsonpickle-3.3.0-py3-none-any.whl (42 kB)\n",
      "Installing collected packages: jsonpickle, pyvis\n",
      "Successfully installed jsonpickle-3.3.0 pyvis-0.3.2\n",
      "Note: you may need to restart the kernel to use updated packages.\n"
     ]
    }
   ],
   "source": [
    "#character network\n",
    "import pandas as pd\n",
    "import matplotlib.pyplot as plt\n",
    "%pip install pyvis==0.3.2"
   ]
  },
  {
   "cell_type": "code",
   "execution_count": 3,
   "metadata": {},
   "outputs": [],
   "source": [
    "import networkx as nx\n",
    "from pyvis.network import Network"
   ]
  },
  {
   "cell_type": "code",
   "execution_count": null,
   "metadata": {},
   "outputs": [],
   "source": [
    "def generate_character_network(df):\n",
    "    \n",
    "    windows=10\n",
    "    entity_relationship=[]\n",
    "    \n",
    "    for row in df['ners']:\n",
    "        previous_entites_in_window=[]\n",
    "        \n",
    "        for sentence in row:\n",
    "            previous_entites_in_window.extend(list(sentence))\n",
    "            "
   ]
  }
 ],
 "metadata": {
  "kernelspec": {
   "display_name": "gradiowin",
   "language": "python",
   "name": "python3"
  },
  "language_info": {
   "codemirror_mode": {
    "name": "ipython",
    "version": 3
   },
   "file_extension": ".py",
   "mimetype": "text/x-python",
   "name": "python",
   "nbconvert_exporter": "python",
   "pygments_lexer": "ipython3",
   "version": "3.12.5"
  }
 },
 "nbformat": 4,
 "nbformat_minor": 2
}
